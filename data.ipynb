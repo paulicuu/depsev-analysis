{
 "cells": [
  {
   "cell_type": "code",
   "execution_count": null,
   "id": "001a674c",
   "metadata": {},
   "outputs": [],
   "source": [
    "import pandas"
   ]
  },
  {
   "cell_type": "markdown",
   "id": "6cbaf9cd",
   "metadata": {},
   "source": [
    "## Data Cleaning Utils"
   ]
  },
  {
   "cell_type": "code",
   "execution_count": null,
   "id": "f7d192fa",
   "metadata": {},
   "outputs": [],
   "source": [
    "def normalize_colnames(df: pandas.DataFrame) -> pandas.DataFrame:\n",
    "    rename_dict: dict[str, str] = {}\n",
    "\n",
    "    for col in df.columns:\n",
    "        if \"text\" in col:\n",
    "            rename_dict[col] = \"text\"\n",
    "        elif \"label\" in col:\n",
    "            rename_dict[col] = \"label\"\n",
    "\n",
    "    df = df.rename(columns=rename_dict)\n",
    "    return df"
   ]
  },
  {
   "cell_type": "code",
   "execution_count": null,
   "id": "5a095891",
   "metadata": {},
   "outputs": [],
   "source": [
    "def clean_colnames(df: pandas.DataFrame) -> pandas.DataFrame:\n",
    "    clean_cols: list[str] = []\n",
    "    \n",
    "    for col in df.columns:\n",
    "        clean_cols.append(col.lower().replace(\" \", \"_\"))\n",
    "\n",
    "    df.columns = clean_cols\n",
    "    return df"
   ]
  },
  {
   "cell_type": "code",
   "execution_count": null,
   "id": "1bcaa53e",
   "metadata": {},
   "outputs": [],
   "source": [
    "def remove_ids(df: pandas.DataFrame) -> pandas.DataFrame:\n",
    "    id_cols: list[str] = []\n",
    "\n",
    "    for col in df.columns:\n",
    "        if \"id\" in col:\n",
    "            id_cols.append(col)\n",
    "\n",
    "    df = df.drop(columns=id_cols)\n",
    "    return df\n"
   ]
  },
  {
   "cell_type": "markdown",
   "id": "18821c2f",
   "metadata": {},
   "source": [
    "## DEPSEV Dataset"
   ]
  },
  {
   "cell_type": "code",
   "execution_count": null,
   "id": "e35f342e",
   "metadata": {},
   "outputs": [],
   "source": [
    "depsev: pandas.DataFrame = pandas.read_csv(\"data/depsev.csv\")"
   ]
  },
  {
   "cell_type": "code",
   "execution_count": null,
   "id": "c0ce1ef9",
   "metadata": {},
   "outputs": [
    {
     "data": {
      "text/plain": [
       "(3553, 2)"
      ]
     },
     "metadata": {},
     "output_type": "display_data"
    }
   ],
   "source": [
    "depsev.shape"
   ]
  },
  {
   "cell_type": "code",
   "execution_count": null,
   "id": "810b915b",
   "metadata": {},
   "outputs": [
    {
     "name": "stdout",
     "output_type": "stream",
     "text": [
      "<class 'pandas.core.frame.DataFrame'>\n",
      "RangeIndex: 3553 entries, 0 to 3552\n",
      "Data columns (total 2 columns):\n",
      " #   Column  Non-Null Count  Dtype \n",
      "---  ------  --------------  ----- \n",
      " 0   text    3553 non-null   object\n",
      " 1   label   3553 non-null   object\n",
      "dtypes: object(2)\n",
      "memory usage: 2.3 MB\n"
     ]
    }
   ],
   "source": [
    "depsev.info(memory_usage=\"deep\")"
   ]
  },
  {
   "cell_type": "code",
   "execution_count": null,
   "id": "60518e10",
   "metadata": {},
   "outputs": [
    {
     "data": {
      "text/html": [
       "<div>\n",
       "<style scoped>\n",
       "    .dataframe tbody tr th:only-of-type {\n",
       "        vertical-align: middle;\n",
       "    }\n",
       "\n",
       "    .dataframe tbody tr th {\n",
       "        vertical-align: top;\n",
       "    }\n",
       "\n",
       "    .dataframe thead th {\n",
       "        text-align: right;\n",
       "    }\n",
       "</style>\n",
       "<table border=\"1\" class=\"dataframe\">\n",
       "  <thead>\n",
       "    <tr style=\"text-align: right;\">\n",
       "      <th></th>\n",
       "      <th>count</th>\n",
       "    </tr>\n",
       "    <tr>\n",
       "      <th>label</th>\n",
       "      <th></th>\n",
       "    </tr>\n",
       "  </thead>\n",
       "  <tbody>\n",
       "    <tr>\n",
       "      <th>minimum</th>\n",
       "      <td>2587</td>\n",
       "    </tr>\n",
       "    <tr>\n",
       "      <th>moderate</th>\n",
       "      <td>394</td>\n",
       "    </tr>\n",
       "    <tr>\n",
       "      <th>mild</th>\n",
       "      <td>290</td>\n",
       "    </tr>\n",
       "    <tr>\n",
       "      <th>severe</th>\n",
       "      <td>282</td>\n",
       "    </tr>\n",
       "  </tbody>\n",
       "</table>\n",
       "</div><br><label><b>dtype:</b> int64</label>"
      ],
      "text/plain": [
       "label\n",
       "minimum     2587\n",
       "moderate     394\n",
       "mild         290\n",
       "severe       282\n",
       "Name: count, dtype: int64"
      ]
     },
     "metadata": {},
     "output_type": "display_data"
    }
   ],
   "source": [
    "depsev.label.value_counts()"
   ]
  },
  {
   "cell_type": "markdown",
   "id": "7dd0cea7",
   "metadata": {},
   "source": [
    "## DEPSIGN Dataset"
   ]
  },
  {
   "cell_type": "code",
   "execution_count": null,
   "id": "cc523df7",
   "metadata": {},
   "outputs": [],
   "source": [
    "depsign_1: pandas.DataFrame = pandas.read_csv(\"data/depsign_1.tsv\", sep=\"\\t\")\n",
    "depsign_2: pandas.DataFrame = pandas.read_csv(\"data/depsign_2.tsv\", sep=\"\\t\")\n",
    "depsign_3: pandas.DataFrame = pandas.read_csv(\"data/depsign_3.tsv\", sep=\"\\t\")"
   ]
  },
  {
   "cell_type": "markdown",
   "id": "9bc7c789",
   "metadata": {},
   "source": [
    "### DEPSIGN 1"
   ]
  },
  {
   "cell_type": "code",
   "execution_count": null,
   "id": "2b529f96",
   "metadata": {},
   "outputs": [
    {
     "data": {
      "text/plain": [
       "(4496, 3)"
      ]
     },
     "metadata": {},
     "output_type": "display_data"
    }
   ],
   "source": [
    "depsign_1.shape"
   ]
  },
  {
   "cell_type": "code",
   "execution_count": null,
   "id": "28fa58d3",
   "metadata": {},
   "outputs": [
    {
     "name": "stdout",
     "output_type": "stream",
     "text": [
      "<class 'pandas.core.frame.DataFrame'>\n",
      "RangeIndex: 4496 entries, 0 to 4495\n",
      "Data columns (total 3 columns):\n",
      " #   Column     Non-Null Count  Dtype \n",
      "---  ------     --------------  ----- \n",
      " 0   PID        4496 non-null   object\n",
      " 1   Text data  4496 non-null   object\n",
      " 2   Label      4496 non-null   object\n",
      "dtypes: object(3)\n",
      "memory usage: 6.1 MB\n"
     ]
    }
   ],
   "source": [
    "depsign_1.info(memory_usage=\"deep\")"
   ]
  },
  {
   "cell_type": "code",
   "execution_count": null,
   "id": "abfd2551",
   "metadata": {},
   "outputs": [
    {
     "data": {
      "text/html": [
       "<div>\n",
       "<style scoped>\n",
       "    .dataframe tbody tr th:only-of-type {\n",
       "        vertical-align: middle;\n",
       "    }\n",
       "\n",
       "    .dataframe tbody tr th {\n",
       "        vertical-align: top;\n",
       "    }\n",
       "\n",
       "    .dataframe thead th {\n",
       "        text-align: right;\n",
       "    }\n",
       "</style>\n",
       "<table border=\"1\" class=\"dataframe\">\n",
       "  <thead>\n",
       "    <tr style=\"text-align: right;\">\n",
       "      <th></th>\n",
       "      <th>count</th>\n",
       "    </tr>\n",
       "    <tr>\n",
       "      <th>Label</th>\n",
       "      <th></th>\n",
       "    </tr>\n",
       "  </thead>\n",
       "  <tbody>\n",
       "    <tr>\n",
       "      <th>moderate</th>\n",
       "      <td>2306</td>\n",
       "    </tr>\n",
       "    <tr>\n",
       "      <th>not depression</th>\n",
       "      <td>1830</td>\n",
       "    </tr>\n",
       "    <tr>\n",
       "      <th>severe</th>\n",
       "      <td>360</td>\n",
       "    </tr>\n",
       "  </tbody>\n",
       "</table>\n",
       "</div><br><label><b>dtype:</b> int64</label>"
      ],
      "text/plain": [
       "Label\n",
       "moderate          2306\n",
       "not depression    1830\n",
       "severe             360\n",
       "Name: count, dtype: int64"
      ]
     },
     "metadata": {},
     "output_type": "display_data"
    }
   ],
   "source": [
    "depsign_1.Label.value_counts()"
   ]
  },
  {
   "cell_type": "code",
   "execution_count": null,
   "id": "507afc9f",
   "metadata": {},
   "outputs": [
    {
     "data": {
      "text/plain": [
       "Index(['pid', 'text_data', 'label'], dtype='object')"
      ]
     },
     "metadata": {},
     "output_type": "display_data"
    }
   ],
   "source": [
    "depsign_1 = clean_colnames(depsign_1)\n",
    "depsign_1.columns"
   ]
  },
  {
   "cell_type": "code",
   "execution_count": null,
   "id": "bf1d23d4",
   "metadata": {},
   "outputs": [
    {
     "data": {
      "text/plain": [
       "Index(['pid', 'text', 'label'], dtype='object')"
      ]
     },
     "metadata": {},
     "output_type": "display_data"
    }
   ],
   "source": [
    "depsign_1 = normalize_colnames(depsign_1)\n",
    "depsign_1.columns"
   ]
  },
  {
   "cell_type": "code",
   "execution_count": null,
   "id": "639d2434",
   "metadata": {},
   "outputs": [
    {
     "data": {
      "text/plain": [
       "Index(['text', 'label'], dtype='object')"
      ]
     },
     "metadata": {},
     "output_type": "display_data"
    }
   ],
   "source": [
    "depsign_1 = remove_ids(depsign_1)\n",
    "depsign_1.columns"
   ]
  },
  {
   "cell_type": "markdown",
   "id": "7f5e88cd",
   "metadata": {},
   "source": [
    "### DEPSIGN 2"
   ]
  },
  {
   "cell_type": "code",
   "execution_count": null,
   "id": "c302c8e2",
   "metadata": {},
   "outputs": [
    {
     "data": {
      "text/plain": [
       "(3245, 3)"
      ]
     },
     "metadata": {},
     "output_type": "display_data"
    }
   ],
   "source": [
    "depsign_2.shape"
   ]
  },
  {
   "cell_type": "code",
   "execution_count": null,
   "id": "6c2193bd",
   "metadata": {},
   "outputs": [
    {
     "name": "stdout",
     "output_type": "stream",
     "text": [
      "<class 'pandas.core.frame.DataFrame'>\n",
      "RangeIndex: 3245 entries, 0 to 3244\n",
      "Data columns (total 3 columns):\n",
      " #   Column        Non-Null Count  Dtype \n",
      "---  ------        --------------  ----- \n",
      " 0   Pid           3245 non-null   object\n",
      " 1   text data     3245 non-null   object\n",
      " 2   Class labels  3245 non-null   object\n",
      "dtypes: object(3)\n",
      "memory usage: 4.4 MB\n"
     ]
    }
   ],
   "source": [
    "depsign_2.info(memory_usage=\"deep\")"
   ]
  },
  {
   "cell_type": "code",
   "execution_count": null,
   "id": "044a8caa",
   "metadata": {},
   "outputs": [
    {
     "data": {
      "text/html": [
       "<div>\n",
       "<style scoped>\n",
       "    .dataframe tbody tr th:only-of-type {\n",
       "        vertical-align: middle;\n",
       "    }\n",
       "\n",
       "    .dataframe tbody tr th {\n",
       "        vertical-align: top;\n",
       "    }\n",
       "\n",
       "    .dataframe thead th {\n",
       "        text-align: right;\n",
       "    }\n",
       "</style>\n",
       "<table border=\"1\" class=\"dataframe\">\n",
       "  <thead>\n",
       "    <tr style=\"text-align: right;\">\n",
       "      <th></th>\n",
       "      <th>count</th>\n",
       "    </tr>\n",
       "    <tr>\n",
       "      <th>Class labels</th>\n",
       "      <th></th>\n",
       "    </tr>\n",
       "  </thead>\n",
       "  <tbody>\n",
       "    <tr>\n",
       "      <th>moderate</th>\n",
       "      <td>2169</td>\n",
       "    </tr>\n",
       "    <tr>\n",
       "      <th>not depression</th>\n",
       "      <td>848</td>\n",
       "    </tr>\n",
       "    <tr>\n",
       "      <th>severe</th>\n",
       "      <td>228</td>\n",
       "    </tr>\n",
       "  </tbody>\n",
       "</table>\n",
       "</div><br><label><b>dtype:</b> int64</label>"
      ],
      "text/plain": [
       "Class labels\n",
       "moderate          2169\n",
       "not depression     848\n",
       "severe             228\n",
       "Name: count, dtype: int64"
      ]
     },
     "metadata": {},
     "output_type": "display_data"
    }
   ],
   "source": [
    "depsign_2[\"Class labels\"].value_counts()"
   ]
  },
  {
   "cell_type": "code",
   "execution_count": null,
   "id": "78d53c5c",
   "metadata": {},
   "outputs": [
    {
     "data": {
      "text/plain": [
       "Index(['pid', 'text_data', 'class_labels'], dtype='object')"
      ]
     },
     "metadata": {},
     "output_type": "display_data"
    }
   ],
   "source": [
    "depsign_2 = clean_colnames(depsign_2)\n",
    "depsign_2.columns"
   ]
  },
  {
   "cell_type": "code",
   "execution_count": null,
   "id": "2c5d1a8e",
   "metadata": {},
   "outputs": [
    {
     "data": {
      "text/plain": [
       "Index(['pid', 'text', 'label'], dtype='object')"
      ]
     },
     "metadata": {},
     "output_type": "display_data"
    }
   ],
   "source": [
    "depsign_2 = normalize_colnames(depsign_2)\n",
    "depsign_2.columns"
   ]
  },
  {
   "cell_type": "code",
   "execution_count": null,
   "id": "ab8562b0",
   "metadata": {},
   "outputs": [
    {
     "data": {
      "text/plain": [
       "Index(['text', 'label'], dtype='object')"
      ]
     },
     "metadata": {},
     "output_type": "display_data"
    }
   ],
   "source": [
    "depsign_2 = remove_ids(depsign_2)\n",
    "depsign_2.columns"
   ]
  },
  {
   "cell_type": "markdown",
   "id": "78100373",
   "metadata": {},
   "source": [
    "### DEPSIGN 3"
   ]
  },
  {
   "cell_type": "code",
   "execution_count": null,
   "id": "00d3e31e",
   "metadata": {},
   "outputs": [
    {
     "data": {
      "text/plain": [
       "(8891, 3)"
      ]
     },
     "metadata": {},
     "output_type": "display_data"
    }
   ],
   "source": [
    "depsign_3.shape"
   ]
  },
  {
   "cell_type": "code",
   "execution_count": null,
   "id": "b05bee20",
   "metadata": {},
   "outputs": [
    {
     "name": "stdout",
     "output_type": "stream",
     "text": [
      "<class 'pandas.core.frame.DataFrame'>\n",
      "RangeIndex: 8891 entries, 0 to 8890\n",
      "Data columns (total 3 columns):\n",
      " #   Column     Non-Null Count  Dtype \n",
      "---  ------     --------------  ----- \n",
      " 0   PID        8891 non-null   object\n",
      " 1   Text_data  8891 non-null   object\n",
      " 2   Label      8891 non-null   object\n",
      "dtypes: object(3)\n",
      "memory usage: 10.7 MB\n"
     ]
    }
   ],
   "source": [
    "depsign_3.info(memory_usage=\"deep\")"
   ]
  },
  {
   "cell_type": "code",
   "execution_count": null,
   "id": "fe03c891",
   "metadata": {},
   "outputs": [
    {
     "data": {
      "text/html": [
       "<div>\n",
       "<style scoped>\n",
       "    .dataframe tbody tr th:only-of-type {\n",
       "        vertical-align: middle;\n",
       "    }\n",
       "\n",
       "    .dataframe tbody tr th {\n",
       "        vertical-align: top;\n",
       "    }\n",
       "\n",
       "    .dataframe thead th {\n",
       "        text-align: right;\n",
       "    }\n",
       "</style>\n",
       "<table border=\"1\" class=\"dataframe\">\n",
       "  <thead>\n",
       "    <tr style=\"text-align: right;\">\n",
       "      <th></th>\n",
       "      <th>count</th>\n",
       "    </tr>\n",
       "    <tr>\n",
       "      <th>Label</th>\n",
       "      <th></th>\n",
       "    </tr>\n",
       "  </thead>\n",
       "  <tbody>\n",
       "    <tr>\n",
       "      <th>moderate</th>\n",
       "      <td>6019</td>\n",
       "    </tr>\n",
       "    <tr>\n",
       "      <th>not depression</th>\n",
       "      <td>1971</td>\n",
       "    </tr>\n",
       "    <tr>\n",
       "      <th>severe</th>\n",
       "      <td>901</td>\n",
       "    </tr>\n",
       "  </tbody>\n",
       "</table>\n",
       "</div><br><label><b>dtype:</b> int64</label>"
      ],
      "text/plain": [
       "Label\n",
       "moderate          6019\n",
       "not depression    1971\n",
       "severe             901\n",
       "Name: count, dtype: int64"
      ]
     },
     "metadata": {},
     "output_type": "display_data"
    }
   ],
   "source": [
    "depsign_3.Label.value_counts()"
   ]
  },
  {
   "cell_type": "code",
   "execution_count": null,
   "id": "9f6208fe",
   "metadata": {},
   "outputs": [
    {
     "data": {
      "text/plain": [
       "Index(['pid', 'text_data', 'label'], dtype='object')"
      ]
     },
     "metadata": {},
     "output_type": "display_data"
    }
   ],
   "source": [
    "depsign_3 = clean_colnames(depsign_3)\n",
    "depsign_3.columns"
   ]
  },
  {
   "cell_type": "code",
   "execution_count": null,
   "id": "c5ff59cb",
   "metadata": {},
   "outputs": [
    {
     "data": {
      "text/plain": [
       "Index(['pid', 'text', 'label'], dtype='object')"
      ]
     },
     "metadata": {},
     "output_type": "display_data"
    }
   ],
   "source": [
    "depsign_3 = normalize_colnames(depsign_3)\n",
    "depsign_3.columns"
   ]
  },
  {
   "cell_type": "code",
   "execution_count": null,
   "id": "b48d1fb4",
   "metadata": {},
   "outputs": [
    {
     "data": {
      "text/plain": [
       "Index(['text', 'label'], dtype='object')"
      ]
     },
     "metadata": {},
     "output_type": "display_data"
    }
   ],
   "source": [
    "depsign_3 = remove_ids(depsign_3)\n",
    "depsign_3.columns"
   ]
  },
  {
   "cell_type": "markdown",
   "id": "03fd2c88",
   "metadata": {},
   "source": [
    "### Merge DEPSIGN Datasets"
   ]
  },
  {
   "cell_type": "code",
   "execution_count": null,
   "id": "7ef3769b",
   "metadata": {},
   "outputs": [],
   "source": [
    "depsign: pandas.DataFrame = pandas.concat([depsign_1, depsign_2, depsign_3])"
   ]
  },
  {
   "cell_type": "code",
   "execution_count": null,
   "id": "6871f9bb",
   "metadata": {},
   "outputs": [
    {
     "data": {
      "text/plain": [
       "(16632, 2)"
      ]
     },
     "metadata": {},
     "output_type": "display_data"
    }
   ],
   "source": [
    "depsign.shape"
   ]
  },
  {
   "cell_type": "code",
   "execution_count": null,
   "id": "5fc3a777",
   "metadata": {},
   "outputs": [
    {
     "name": "stdout",
     "output_type": "stream",
     "text": [
      "<class 'pandas.core.frame.DataFrame'>\n",
      "Index: 16632 entries, 0 to 8890\n",
      "Data columns (total 2 columns):\n",
      " #   Column  Non-Null Count  Dtype \n",
      "---  ------  --------------  ----- \n",
      " 0   text    16632 non-null  object\n",
      " 1   label   16632 non-null  object\n",
      "dtypes: object(2)\n",
      "memory usage: 20.2 MB\n"
     ]
    }
   ],
   "source": [
    "depsign.info(memory_usage=\"deep\")"
   ]
  },
  {
   "cell_type": "code",
   "execution_count": null,
   "id": "a9f80e9c",
   "metadata": {},
   "outputs": [
    {
     "data": {
      "text/html": [
       "<div>\n",
       "<style scoped>\n",
       "    .dataframe tbody tr th:only-of-type {\n",
       "        vertical-align: middle;\n",
       "    }\n",
       "\n",
       "    .dataframe tbody tr th {\n",
       "        vertical-align: top;\n",
       "    }\n",
       "\n",
       "    .dataframe thead th {\n",
       "        text-align: right;\n",
       "    }\n",
       "</style>\n",
       "<table border=\"1\" class=\"dataframe\">\n",
       "  <thead>\n",
       "    <tr style=\"text-align: right;\">\n",
       "      <th></th>\n",
       "      <th>count</th>\n",
       "    </tr>\n",
       "    <tr>\n",
       "      <th>label</th>\n",
       "      <th></th>\n",
       "    </tr>\n",
       "  </thead>\n",
       "  <tbody>\n",
       "    <tr>\n",
       "      <th>moderate</th>\n",
       "      <td>10494</td>\n",
       "    </tr>\n",
       "    <tr>\n",
       "      <th>not depression</th>\n",
       "      <td>4649</td>\n",
       "    </tr>\n",
       "    <tr>\n",
       "      <th>severe</th>\n",
       "      <td>1489</td>\n",
       "    </tr>\n",
       "  </tbody>\n",
       "</table>\n",
       "</div><br><label><b>dtype:</b> int64</label>"
      ],
      "text/plain": [
       "label\n",
       "moderate          10494\n",
       "not depression     4649\n",
       "severe             1489\n",
       "Name: count, dtype: int64"
      ]
     },
     "metadata": {},
     "output_type": "display_data"
    }
   ],
   "source": [
    "depsign.label.value_counts()"
   ]
  },
  {
   "cell_type": "code",
   "execution_count": null,
   "id": "2a2db729",
   "metadata": {},
   "outputs": [],
   "source": [
    "depsign.to_csv(\"data/depsign.csv\", index=False)"
   ]
  }
 ],
 "metadata": {
  "language_info": {
   "name": "python"
  }
 },
 "nbformat": 4,
 "nbformat_minor": 5
}
