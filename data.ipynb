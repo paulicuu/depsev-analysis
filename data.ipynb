{
  "cells": [
    {
      "cell_type": "code",
      "execution_count": 48,
      "id": "001a674c",
      "metadata": {
        "id": "001a674c"
      },
      "outputs": [],
      "source": [
        "import pandas"
      ]
    },
    {
      "cell_type": "markdown",
      "id": "6cbaf9cd",
      "metadata": {
        "id": "6cbaf9cd"
      },
      "source": [
        "## Data Cleaning Utils"
      ]
    },
    {
      "cell_type": "code",
      "execution_count": 49,
      "id": "f7d192fa",
      "metadata": {
        "id": "f7d192fa"
      },
      "outputs": [],
      "source": [
        "def normalize_colnames(df: pandas.DataFrame) -> pandas.DataFrame:\n",
        "    rename_dict: dict[str, str] = {}\n",
        "\n",
        "    for col in df.columns:\n",
        "        if \"text\" in col:\n",
        "            rename_dict[col] = \"text\"\n",
        "        elif \"label\" in col:\n",
        "            rename_dict[col] = \"label\"\n",
        "\n",
        "    df = df.rename(columns=rename_dict)\n",
        "    return df"
      ]
    },
    {
      "cell_type": "code",
      "execution_count": 50,
      "id": "5a095891",
      "metadata": {
        "id": "5a095891"
      },
      "outputs": [],
      "source": [
        "def clean_colnames(df: pandas.DataFrame) -> pandas.DataFrame:\n",
        "    clean_cols: list[str] = []\n",
        "\n",
        "    for col in df.columns:\n",
        "        clean_cols.append(col.lower().replace(\" \", \"_\"))\n",
        "\n",
        "    df.columns = clean_cols\n",
        "    return df"
      ]
    },
    {
      "cell_type": "code",
      "execution_count": 51,
      "id": "1bcaa53e",
      "metadata": {
        "id": "1bcaa53e"
      },
      "outputs": [],
      "source": [
        "def remove_ids(df: pandas.DataFrame) -> pandas.DataFrame:\n",
        "    id_cols: list[str] = []\n",
        "\n",
        "    for col in df.columns:\n",
        "        if \"id\" in col:\n",
        "            id_cols.append(col)\n",
        "\n",
        "    df = df.drop(columns=id_cols)\n",
        "    return df\n"
      ]
    },
    {
      "cell_type": "markdown",
      "id": "18821c2f",
      "metadata": {
        "id": "18821c2f"
      },
      "source": [
        "## DEPSEV Dataset"
      ]
    },
    {
      "cell_type": "code",
      "execution_count": 52,
      "id": "e35f342e",
      "metadata": {
        "id": "e35f342e"
      },
      "outputs": [],
      "source": [
        "depsev: pandas.DataFrame = pandas.read_csv(\"data/depsev.csv\")"
      ]
    },
    {
      "cell_type": "code",
      "execution_count": 53,
      "id": "c0ce1ef9",
      "metadata": {
        "colab": {
          "base_uri": "https://localhost:8080/"
        },
        "id": "c0ce1ef9",
        "outputId": "71968441-f385-4abf-be5c-3363a5c528d4"
      },
      "outputs": [
        {
          "data": {
            "text/plain": [
              "(3553, 2)"
            ]
          },
          "execution_count": 53,
          "metadata": {},
          "output_type": "execute_result"
        }
      ],
      "source": [
        "depsev.shape"
      ]
    },
    {
      "cell_type": "code",
      "execution_count": 54,
      "id": "810b915b",
      "metadata": {
        "colab": {
          "base_uri": "https://localhost:8080/"
        },
        "id": "810b915b",
        "outputId": "6db058a9-cae1-4508-856b-660a2070bf82"
      },
      "outputs": [
        {
          "name": "stdout",
          "output_type": "stream",
          "text": [
            "<class 'pandas.core.frame.DataFrame'>\n",
            "RangeIndex: 3553 entries, 0 to 3552\n",
            "Data columns (total 2 columns):\n",
            " #   Column  Non-Null Count  Dtype \n",
            "---  ------  --------------  ----- \n",
            " 0   text    3553 non-null   object\n",
            " 1   label   3553 non-null   object\n",
            "dtypes: object(2)\n",
            "memory usage: 2.3 MB\n"
          ]
        }
      ],
      "source": [
        "depsev.info(memory_usage=\"deep\")"
      ]
    },
    {
      "cell_type": "code",
      "execution_count": 55,
      "id": "60518e10",
      "metadata": {
        "colab": {
          "base_uri": "https://localhost:8080/",
          "height": 241
        },
        "id": "60518e10",
        "outputId": "01ddea74-4d77-4827-92e5-b1cddef1120d"
      },
      "outputs": [
        {
          "data": {
            "text/html": [
              "<div>\n",
              "<style scoped>\n",
              "    .dataframe tbody tr th:only-of-type {\n",
              "        vertical-align: middle;\n",
              "    }\n",
              "\n",
              "    .dataframe tbody tr th {\n",
              "        vertical-align: top;\n",
              "    }\n",
              "\n",
              "    .dataframe thead th {\n",
              "        text-align: right;\n",
              "    }\n",
              "</style>\n",
              "<table border=\"1\" class=\"dataframe\">\n",
              "  <thead>\n",
              "    <tr style=\"text-align: right;\">\n",
              "      <th></th>\n",
              "      <th>count</th>\n",
              "    </tr>\n",
              "    <tr>\n",
              "      <th>label</th>\n",
              "      <th></th>\n",
              "    </tr>\n",
              "  </thead>\n",
              "  <tbody>\n",
              "    <tr>\n",
              "      <th>minimum</th>\n",
              "      <td>2587</td>\n",
              "    </tr>\n",
              "    <tr>\n",
              "      <th>moderate</th>\n",
              "      <td>394</td>\n",
              "    </tr>\n",
              "    <tr>\n",
              "      <th>mild</th>\n",
              "      <td>290</td>\n",
              "    </tr>\n",
              "    <tr>\n",
              "      <th>severe</th>\n",
              "      <td>282</td>\n",
              "    </tr>\n",
              "  </tbody>\n",
              "</table>\n",
              "</div><br><label><b>dtype:</b> int64</label>"
            ],
            "text/plain": [
              "label\n",
              "minimum     2587\n",
              "moderate     394\n",
              "mild         290\n",
              "severe       282\n",
              "Name: count, dtype: int64"
            ]
          },
          "execution_count": 55,
          "metadata": {},
          "output_type": "execute_result"
        }
      ],
      "source": [
        "depsev.label.value_counts()"
      ]
    },
    {
      "cell_type": "markdown",
      "id": "7dd0cea7",
      "metadata": {
        "id": "7dd0cea7"
      },
      "source": [
        "## DEPSIGN Dataset"
      ]
    },
    {
      "cell_type": "code",
      "execution_count": 56,
      "id": "cc523df7",
      "metadata": {
        "id": "cc523df7"
      },
      "outputs": [],
      "source": [
        "depsign_1: pandas.DataFrame = pandas.read_csv(\"data/depsign_1.tsv\", sep=\"\\t\")\n",
        "depsign_2: pandas.DataFrame = pandas.read_csv(\"data/depsign_2.tsv\", sep=\"\\t\")\n",
        "depsign_3: pandas.DataFrame = pandas.read_csv(\"data/depsign_3.tsv\", sep=\"\\t\")"
      ]
    },
    {
      "cell_type": "markdown",
      "id": "9bc7c789",
      "metadata": {
        "id": "9bc7c789"
      },
      "source": [
        "### DEPSIGN 1"
      ]
    },
    {
      "cell_type": "code",
      "execution_count": 57,
      "id": "2b529f96",
      "metadata": {
        "colab": {
          "base_uri": "https://localhost:8080/"
        },
        "id": "2b529f96",
        "outputId": "7ce6369f-96aa-4e11-d267-32c3bc3d3550"
      },
      "outputs": [
        {
          "data": {
            "text/plain": [
              "(4496, 3)"
            ]
          },
          "execution_count": 57,
          "metadata": {},
          "output_type": "execute_result"
        }
      ],
      "source": [
        "depsign_1.shape"
      ]
    },
    {
      "cell_type": "code",
      "execution_count": 58,
      "id": "28fa58d3",
      "metadata": {
        "colab": {
          "base_uri": "https://localhost:8080/"
        },
        "id": "28fa58d3",
        "outputId": "d7a0adb2-6e0a-4a67-a203-8ac6119bf564"
      },
      "outputs": [
        {
          "name": "stdout",
          "output_type": "stream",
          "text": [
            "<class 'pandas.core.frame.DataFrame'>\n",
            "RangeIndex: 4496 entries, 0 to 4495\n",
            "Data columns (total 3 columns):\n",
            " #   Column     Non-Null Count  Dtype \n",
            "---  ------     --------------  ----- \n",
            " 0   PID        4496 non-null   object\n",
            " 1   Text data  4496 non-null   object\n",
            " 2   Label      4496 non-null   object\n",
            "dtypes: object(3)\n",
            "memory usage: 6.1 MB\n"
          ]
        }
      ],
      "source": [
        "depsign_1.info(memory_usage=\"deep\")"
      ]
    },
    {
      "cell_type": "code",
      "execution_count": 59,
      "id": "abfd2551",
      "metadata": {
        "colab": {
          "base_uri": "https://localhost:8080/",
          "height": 210
        },
        "id": "abfd2551",
        "outputId": "660a1279-3b34-4743-ff78-e8f9f6791141"
      },
      "outputs": [
        {
          "data": {
            "text/html": [
              "<div>\n",
              "<style scoped>\n",
              "    .dataframe tbody tr th:only-of-type {\n",
              "        vertical-align: middle;\n",
              "    }\n",
              "\n",
              "    .dataframe tbody tr th {\n",
              "        vertical-align: top;\n",
              "    }\n",
              "\n",
              "    .dataframe thead th {\n",
              "        text-align: right;\n",
              "    }\n",
              "</style>\n",
              "<table border=\"1\" class=\"dataframe\">\n",
              "  <thead>\n",
              "    <tr style=\"text-align: right;\">\n",
              "      <th></th>\n",
              "      <th>count</th>\n",
              "    </tr>\n",
              "    <tr>\n",
              "      <th>Label</th>\n",
              "      <th></th>\n",
              "    </tr>\n",
              "  </thead>\n",
              "  <tbody>\n",
              "    <tr>\n",
              "      <th>moderate</th>\n",
              "      <td>2306</td>\n",
              "    </tr>\n",
              "    <tr>\n",
              "      <th>not depression</th>\n",
              "      <td>1830</td>\n",
              "    </tr>\n",
              "    <tr>\n",
              "      <th>severe</th>\n",
              "      <td>360</td>\n",
              "    </tr>\n",
              "  </tbody>\n",
              "</table>\n",
              "</div><br><label><b>dtype:</b> int64</label>"
            ],
            "text/plain": [
              "Label\n",
              "moderate          2306\n",
              "not depression    1830\n",
              "severe             360\n",
              "Name: count, dtype: int64"
            ]
          },
          "execution_count": 59,
          "metadata": {},
          "output_type": "execute_result"
        }
      ],
      "source": [
        "depsign_1.Label.value_counts()"
      ]
    },
    {
      "cell_type": "code",
      "execution_count": 60,
      "id": "507afc9f",
      "metadata": {
        "colab": {
          "base_uri": "https://localhost:8080/"
        },
        "id": "507afc9f",
        "outputId": "7cc01cca-9a47-4df4-8ac3-80c74e25350b"
      },
      "outputs": [
        {
          "data": {
            "text/plain": [
              "Index(['pid', 'text_data', 'label'], dtype='object')"
            ]
          },
          "execution_count": 60,
          "metadata": {},
          "output_type": "execute_result"
        }
      ],
      "source": [
        "depsign_1 = clean_colnames(depsign_1)\n",
        "depsign_1.columns"
      ]
    },
    {
      "cell_type": "code",
      "execution_count": 61,
      "id": "bf1d23d4",
      "metadata": {
        "colab": {
          "base_uri": "https://localhost:8080/"
        },
        "id": "bf1d23d4",
        "outputId": "3578da61-cad5-4382-8e03-f893a16d8dd9"
      },
      "outputs": [
        {
          "data": {
            "text/plain": [
              "Index(['pid', 'text', 'label'], dtype='object')"
            ]
          },
          "execution_count": 61,
          "metadata": {},
          "output_type": "execute_result"
        }
      ],
      "source": [
        "depsign_1 = normalize_colnames(depsign_1)\n",
        "depsign_1.columns"
      ]
    },
    {
      "cell_type": "code",
      "execution_count": 62,
      "id": "639d2434",
      "metadata": {
        "colab": {
          "base_uri": "https://localhost:8080/"
        },
        "id": "639d2434",
        "outputId": "cc6e7c98-00a7-4c24-de5d-bfba4a10ee38"
      },
      "outputs": [
        {
          "data": {
            "text/plain": [
              "Index(['text', 'label'], dtype='object')"
            ]
          },
          "execution_count": 62,
          "metadata": {},
          "output_type": "execute_result"
        }
      ],
      "source": [
        "depsign_1 = remove_ids(depsign_1)\n",
        "depsign_1.columns"
      ]
    },
    {
      "cell_type": "markdown",
      "id": "7f5e88cd",
      "metadata": {
        "id": "7f5e88cd"
      },
      "source": [
        "### DEPSIGN 2"
      ]
    },
    {
      "cell_type": "code",
      "execution_count": 63,
      "id": "c302c8e2",
      "metadata": {
        "colab": {
          "base_uri": "https://localhost:8080/"
        },
        "id": "c302c8e2",
        "outputId": "b0798923-9232-414b-b033-3428efc81219"
      },
      "outputs": [
        {
          "data": {
            "text/plain": [
              "(3245, 3)"
            ]
          },
          "execution_count": 63,
          "metadata": {},
          "output_type": "execute_result"
        }
      ],
      "source": [
        "depsign_2.shape"
      ]
    },
    {
      "cell_type": "code",
      "execution_count": 64,
      "id": "6c2193bd",
      "metadata": {
        "colab": {
          "base_uri": "https://localhost:8080/"
        },
        "id": "6c2193bd",
        "outputId": "2200121c-de7a-45bc-c51d-62aa9d3e0def"
      },
      "outputs": [
        {
          "name": "stdout",
          "output_type": "stream",
          "text": [
            "<class 'pandas.core.frame.DataFrame'>\n",
            "RangeIndex: 3245 entries, 0 to 3244\n",
            "Data columns (total 3 columns):\n",
            " #   Column        Non-Null Count  Dtype \n",
            "---  ------        --------------  ----- \n",
            " 0   Pid           3245 non-null   object\n",
            " 1   text data     3245 non-null   object\n",
            " 2   Class labels  3245 non-null   object\n",
            "dtypes: object(3)\n",
            "memory usage: 4.4 MB\n"
          ]
        }
      ],
      "source": [
        "depsign_2.info(memory_usage=\"deep\")"
      ]
    },
    {
      "cell_type": "code",
      "execution_count": 65,
      "id": "044a8caa",
      "metadata": {
        "colab": {
          "base_uri": "https://localhost:8080/",
          "height": 210
        },
        "id": "044a8caa",
        "outputId": "8f50d4fd-36b3-4c5b-da02-485cd9d4c423"
      },
      "outputs": [
        {
          "data": {
            "text/html": [
              "<div>\n",
              "<style scoped>\n",
              "    .dataframe tbody tr th:only-of-type {\n",
              "        vertical-align: middle;\n",
              "    }\n",
              "\n",
              "    .dataframe tbody tr th {\n",
              "        vertical-align: top;\n",
              "    }\n",
              "\n",
              "    .dataframe thead th {\n",
              "        text-align: right;\n",
              "    }\n",
              "</style>\n",
              "<table border=\"1\" class=\"dataframe\">\n",
              "  <thead>\n",
              "    <tr style=\"text-align: right;\">\n",
              "      <th></th>\n",
              "      <th>count</th>\n",
              "    </tr>\n",
              "    <tr>\n",
              "      <th>Class labels</th>\n",
              "      <th></th>\n",
              "    </tr>\n",
              "  </thead>\n",
              "  <tbody>\n",
              "    <tr>\n",
              "      <th>moderate</th>\n",
              "      <td>2169</td>\n",
              "    </tr>\n",
              "    <tr>\n",
              "      <th>not depression</th>\n",
              "      <td>848</td>\n",
              "    </tr>\n",
              "    <tr>\n",
              "      <th>severe</th>\n",
              "      <td>228</td>\n",
              "    </tr>\n",
              "  </tbody>\n",
              "</table>\n",
              "</div><br><label><b>dtype:</b> int64</label>"
            ],
            "text/plain": [
              "Class labels\n",
              "moderate          2169\n",
              "not depression     848\n",
              "severe             228\n",
              "Name: count, dtype: int64"
            ]
          },
          "execution_count": 65,
          "metadata": {},
          "output_type": "execute_result"
        }
      ],
      "source": [
        "depsign_2[\"Class labels\"].value_counts()"
      ]
    },
    {
      "cell_type": "code",
      "execution_count": 66,
      "id": "78d53c5c",
      "metadata": {
        "colab": {
          "base_uri": "https://localhost:8080/"
        },
        "id": "78d53c5c",
        "outputId": "f0447aaf-4fd3-484d-8941-df7c2d512d2c"
      },
      "outputs": [
        {
          "data": {
            "text/plain": [
              "Index(['pid', 'text_data', 'class_labels'], dtype='object')"
            ]
          },
          "execution_count": 66,
          "metadata": {},
          "output_type": "execute_result"
        }
      ],
      "source": [
        "depsign_2 = clean_colnames(depsign_2)\n",
        "depsign_2.columns"
      ]
    },
    {
      "cell_type": "code",
      "execution_count": 67,
      "id": "2c5d1a8e",
      "metadata": {
        "colab": {
          "base_uri": "https://localhost:8080/"
        },
        "id": "2c5d1a8e",
        "outputId": "fa8650ff-9699-41e8-af82-f8b2e4211514"
      },
      "outputs": [
        {
          "data": {
            "text/plain": [
              "Index(['pid', 'text', 'label'], dtype='object')"
            ]
          },
          "execution_count": 67,
          "metadata": {},
          "output_type": "execute_result"
        }
      ],
      "source": [
        "depsign_2 = normalize_colnames(depsign_2)\n",
        "depsign_2.columns"
      ]
    },
    {
      "cell_type": "code",
      "execution_count": 68,
      "id": "ab8562b0",
      "metadata": {
        "colab": {
          "base_uri": "https://localhost:8080/"
        },
        "id": "ab8562b0",
        "outputId": "2ba953f7-366e-4e2c-ecdd-dc37841c0152"
      },
      "outputs": [
        {
          "data": {
            "text/plain": [
              "Index(['text', 'label'], dtype='object')"
            ]
          },
          "execution_count": 68,
          "metadata": {},
          "output_type": "execute_result"
        }
      ],
      "source": [
        "depsign_2 = remove_ids(depsign_2)\n",
        "depsign_2.columns"
      ]
    },
    {
      "cell_type": "markdown",
      "id": "78100373",
      "metadata": {
        "id": "78100373"
      },
      "source": [
        "### DEPSIGN 3"
      ]
    },
    {
      "cell_type": "code",
      "execution_count": 69,
      "id": "00d3e31e",
      "metadata": {
        "colab": {
          "base_uri": "https://localhost:8080/"
        },
        "id": "00d3e31e",
        "outputId": "67bf9d5c-eb50-443d-eb8b-02f1a3aad774"
      },
      "outputs": [
        {
          "data": {
            "text/plain": [
              "(8891, 3)"
            ]
          },
          "execution_count": 69,
          "metadata": {},
          "output_type": "execute_result"
        }
      ],
      "source": [
        "depsign_3.shape"
      ]
    },
    {
      "cell_type": "code",
      "execution_count": 70,
      "id": "b05bee20",
      "metadata": {
        "colab": {
          "base_uri": "https://localhost:8080/"
        },
        "id": "b05bee20",
        "outputId": "98cc7a99-5da8-4d1f-d304-d7ebe827611e"
      },
      "outputs": [
        {
          "name": "stdout",
          "output_type": "stream",
          "text": [
            "<class 'pandas.core.frame.DataFrame'>\n",
            "RangeIndex: 8891 entries, 0 to 8890\n",
            "Data columns (total 3 columns):\n",
            " #   Column     Non-Null Count  Dtype \n",
            "---  ------     --------------  ----- \n",
            " 0   PID        8891 non-null   object\n",
            " 1   Text_data  8891 non-null   object\n",
            " 2   Label      8891 non-null   object\n",
            "dtypes: object(3)\n",
            "memory usage: 10.7 MB\n"
          ]
        }
      ],
      "source": [
        "depsign_3.info(memory_usage=\"deep\")"
      ]
    },
    {
      "cell_type": "code",
      "execution_count": 71,
      "id": "fe03c891",
      "metadata": {
        "colab": {
          "base_uri": "https://localhost:8080/",
          "height": 210
        },
        "id": "fe03c891",
        "outputId": "2b08b519-3282-47fa-9c88-8d0c8030d03c"
      },
      "outputs": [
        {
          "data": {
            "text/html": [
              "<div>\n",
              "<style scoped>\n",
              "    .dataframe tbody tr th:only-of-type {\n",
              "        vertical-align: middle;\n",
              "    }\n",
              "\n",
              "    .dataframe tbody tr th {\n",
              "        vertical-align: top;\n",
              "    }\n",
              "\n",
              "    .dataframe thead th {\n",
              "        text-align: right;\n",
              "    }\n",
              "</style>\n",
              "<table border=\"1\" class=\"dataframe\">\n",
              "  <thead>\n",
              "    <tr style=\"text-align: right;\">\n",
              "      <th></th>\n",
              "      <th>count</th>\n",
              "    </tr>\n",
              "    <tr>\n",
              "      <th>Label</th>\n",
              "      <th></th>\n",
              "    </tr>\n",
              "  </thead>\n",
              "  <tbody>\n",
              "    <tr>\n",
              "      <th>moderate</th>\n",
              "      <td>6019</td>\n",
              "    </tr>\n",
              "    <tr>\n",
              "      <th>not depression</th>\n",
              "      <td>1971</td>\n",
              "    </tr>\n",
              "    <tr>\n",
              "      <th>severe</th>\n",
              "      <td>901</td>\n",
              "    </tr>\n",
              "  </tbody>\n",
              "</table>\n",
              "</div><br><label><b>dtype:</b> int64</label>"
            ],
            "text/plain": [
              "Label\n",
              "moderate          6019\n",
              "not depression    1971\n",
              "severe             901\n",
              "Name: count, dtype: int64"
            ]
          },
          "execution_count": 71,
          "metadata": {},
          "output_type": "execute_result"
        }
      ],
      "source": [
        "depsign_3.Label.value_counts()"
      ]
    },
    {
      "cell_type": "code",
      "execution_count": 72,
      "id": "9f6208fe",
      "metadata": {
        "colab": {
          "base_uri": "https://localhost:8080/"
        },
        "id": "9f6208fe",
        "outputId": "f2116338-5dea-46a9-ac66-fe67703bbff8"
      },
      "outputs": [
        {
          "data": {
            "text/plain": [
              "Index(['pid', 'text_data', 'label'], dtype='object')"
            ]
          },
          "execution_count": 72,
          "metadata": {},
          "output_type": "execute_result"
        }
      ],
      "source": [
        "depsign_3 = clean_colnames(depsign_3)\n",
        "depsign_3.columns"
      ]
    },
    {
      "cell_type": "code",
      "execution_count": 73,
      "id": "c5ff59cb",
      "metadata": {
        "colab": {
          "base_uri": "https://localhost:8080/"
        },
        "id": "c5ff59cb",
        "outputId": "a0f7aadd-c7ba-4b7b-d604-9d8edf3bc4e9"
      },
      "outputs": [
        {
          "data": {
            "text/plain": [
              "Index(['pid', 'text', 'label'], dtype='object')"
            ]
          },
          "execution_count": 73,
          "metadata": {},
          "output_type": "execute_result"
        }
      ],
      "source": [
        "depsign_3 = normalize_colnames(depsign_3)\n",
        "depsign_3.columns"
      ]
    },
    {
      "cell_type": "code",
      "execution_count": 74,
      "id": "b48d1fb4",
      "metadata": {
        "colab": {
          "base_uri": "https://localhost:8080/"
        },
        "id": "b48d1fb4",
        "outputId": "12a44cbc-e2f6-47f6-b5ee-563278acc10e"
      },
      "outputs": [
        {
          "data": {
            "text/plain": [
              "Index(['text', 'label'], dtype='object')"
            ]
          },
          "execution_count": 74,
          "metadata": {},
          "output_type": "execute_result"
        }
      ],
      "source": [
        "depsign_3 = remove_ids(depsign_3)\n",
        "depsign_3.columns"
      ]
    },
    {
      "cell_type": "markdown",
      "id": "03fd2c88",
      "metadata": {
        "id": "03fd2c88"
      },
      "source": [
        "### Merge DEPSIGN Datasets"
      ]
    },
    {
      "cell_type": "code",
      "execution_count": 80,
      "id": "7ef3769b",
      "metadata": {
        "id": "7ef3769b"
      },
      "outputs": [],
      "source": [
        "depsign: pandas.DataFrame = pandas.concat([depsign_1, depsign_2, depsign_3], ignore_index=True)"
      ]
    },
    {
      "cell_type": "code",
      "execution_count": 81,
      "id": "6871f9bb",
      "metadata": {
        "colab": {
          "base_uri": "https://localhost:8080/"
        },
        "id": "6871f9bb",
        "outputId": "a9747bd3-f147-429b-b152-5c7771b413b3"
      },
      "outputs": [
        {
          "data": {
            "text/plain": [
              "(16632, 2)"
            ]
          },
          "execution_count": 81,
          "metadata": {},
          "output_type": "execute_result"
        }
      ],
      "source": [
        "depsign.shape"
      ]
    },
    {
      "cell_type": "code",
      "execution_count": 82,
      "id": "5fc3a777",
      "metadata": {
        "colab": {
          "base_uri": "https://localhost:8080/"
        },
        "id": "5fc3a777",
        "outputId": "8bc26148-394d-490a-acd9-ef524e166512"
      },
      "outputs": [
        {
          "name": "stdout",
          "output_type": "stream",
          "text": [
            "<class 'pandas.core.frame.DataFrame'>\n",
            "RangeIndex: 16632 entries, 0 to 16631\n",
            "Data columns (total 2 columns):\n",
            " #   Column  Non-Null Count  Dtype \n",
            "---  ------  --------------  ----- \n",
            " 0   text    16632 non-null  object\n",
            " 1   label   16632 non-null  object\n",
            "dtypes: object(2)\n",
            "memory usage: 20.1 MB\n"
          ]
        }
      ],
      "source": [
        "depsign.info(memory_usage=\"deep\")"
      ]
    },
    {
      "cell_type": "code",
      "execution_count": 83,
      "id": "a9f80e9c",
      "metadata": {
        "colab": {
          "base_uri": "https://localhost:8080/",
          "height": 210
        },
        "id": "a9f80e9c",
        "outputId": "1f70b901-9def-41ca-df36-6ee7c7459f40"
      },
      "outputs": [
        {
          "data": {
            "text/html": [
              "<div>\n",
              "<style scoped>\n",
              "    .dataframe tbody tr th:only-of-type {\n",
              "        vertical-align: middle;\n",
              "    }\n",
              "\n",
              "    .dataframe tbody tr th {\n",
              "        vertical-align: top;\n",
              "    }\n",
              "\n",
              "    .dataframe thead th {\n",
              "        text-align: right;\n",
              "    }\n",
              "</style>\n",
              "<table border=\"1\" class=\"dataframe\">\n",
              "  <thead>\n",
              "    <tr style=\"text-align: right;\">\n",
              "      <th></th>\n",
              "      <th>count</th>\n",
              "    </tr>\n",
              "    <tr>\n",
              "      <th>label</th>\n",
              "      <th></th>\n",
              "    </tr>\n",
              "  </thead>\n",
              "  <tbody>\n",
              "    <tr>\n",
              "      <th>moderate</th>\n",
              "      <td>10494</td>\n",
              "    </tr>\n",
              "    <tr>\n",
              "      <th>not depression</th>\n",
              "      <td>4649</td>\n",
              "    </tr>\n",
              "    <tr>\n",
              "      <th>severe</th>\n",
              "      <td>1489</td>\n",
              "    </tr>\n",
              "  </tbody>\n",
              "</table>\n",
              "</div><br><label><b>dtype:</b> int64</label>"
            ],
            "text/plain": [
              "label\n",
              "moderate          10494\n",
              "not depression     4649\n",
              "severe             1489\n",
              "Name: count, dtype: int64"
            ]
          },
          "execution_count": 83,
          "metadata": {},
          "output_type": "execute_result"
        }
      ],
      "source": [
        "depsign.label.value_counts()"
      ]
    },
    {
      "cell_type": "code",
      "execution_count": 84,
      "id": "2a2db729",
      "metadata": {
        "id": "2a2db729"
      },
      "outputs": [],
      "source": [
        "depsign.to_csv(\"data/depsign.csv\", index=False)"
      ]
    }
  ],
  "metadata": {
    "colab": {
      "provenance": []
    },
    "kernelspec": {
      "display_name": "Python 3",
      "name": "python3"
    },
    "language_info": {
      "name": "python"
    }
  },
  "nbformat": 4,
  "nbformat_minor": 5
}
