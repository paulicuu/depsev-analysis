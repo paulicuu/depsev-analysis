{
  "cells": [
    {
      "cell_type": "code",
      "execution_count": 1,
      "id": "001a674c",
      "metadata": {
        "id": "001a674c"
      },
      "outputs": [],
      "source": [
        "import pandas"
      ]
    },
    {
      "cell_type": "code",
      "execution_count": null,
      "id": "ada3470c",
      "metadata": {},
      "outputs": [],
      "source": [
        "from matplotlib import pyplot as plt\n",
        "import seaborn as sns"
      ]
    },
    {
      "cell_type": "markdown",
      "id": "6cbaf9cd",
      "metadata": {
        "id": "6cbaf9cd"
      },
      "source": [
        "## Data Cleaning Utils"
      ]
    },
    {
      "cell_type": "code",
      "execution_count": 2,
      "id": "f7d192fa",
      "metadata": {
        "id": "f7d192fa"
      },
      "outputs": [],
      "source": [
        "def normalize_colnames(df: pandas.DataFrame) -> pandas.DataFrame:\n",
        "    rename_dict: dict[str, str] = {}\n",
        "\n",
        "    for col in df.columns:\n",
        "        if \"text\" in col:\n",
        "            rename_dict[col] = \"text\"\n",
        "        elif \"label\" in col:\n",
        "            rename_dict[col] = \"label\"\n",
        "\n",
        "    df = df.rename(columns=rename_dict)\n",
        "    return df"
      ]
    },
    {
      "cell_type": "code",
      "execution_count": 3,
      "id": "5a095891",
      "metadata": {
        "id": "5a095891"
      },
      "outputs": [],
      "source": [
        "def clean_colnames(df: pandas.DataFrame) -> pandas.DataFrame:\n",
        "    clean_cols: list[str] = []\n",
        "\n",
        "    for col in df.columns:\n",
        "        clean_cols.append(col.lower().replace(\" \", \"_\"))\n",
        "\n",
        "    df.columns = clean_cols\n",
        "    return df"
      ]
    },
    {
      "cell_type": "code",
      "execution_count": 4,
      "id": "1bcaa53e",
      "metadata": {
        "id": "1bcaa53e"
      },
      "outputs": [],
      "source": [
        "def remove_ids(df: pandas.DataFrame) -> pandas.DataFrame:\n",
        "    id_cols: list[str] = []\n",
        "\n",
        "    for col in df.columns:\n",
        "        if \"id\" in col:\n",
        "            id_cols.append(col)\n",
        "\n",
        "    df = df.drop(columns=id_cols)\n",
        "    return df\n"
      ]
    },
    {
      "cell_type": "markdown",
      "id": "RK_7dU-b8j24",
      "metadata": {
        "id": "RK_7dU-b8j24"
      },
      "source": [
        "## Colab-specific Utils"
      ]
    },
    {
      "cell_type": "code",
      "execution_count": 5,
      "id": "dPVc1M8y8m9e",
      "metadata": {
        "id": "dPVc1M8y8m9e"
      },
      "outputs": [],
      "source": [
        "from google.colab import files"
      ]
    },
    {
      "cell_type": "code",
      "execution_count": 6,
      "id": "jb2Pq0nh8tKT",
      "metadata": {
        "id": "jb2Pq0nh8tKT"
      },
      "outputs": [],
      "source": [
        "!mkdir -p data"
      ]
    },
    {
      "cell_type": "code",
      "execution_count": null,
      "id": "6bOTHVSY8u7m",
      "metadata": {
        "colab": {
          "base_uri": "https://localhost:8080/",
          "height": 177
        },
        "id": "6bOTHVSY8u7m",
        "outputId": "e4473fdd-8f2b-4c4d-9690-424043b1f5e3"
      },
      "outputs": [],
      "source": [
        "uploaded: dict[str, bytes] = files.upload(\"data\")"
      ]
    },
    {
      "cell_type": "markdown",
      "id": "18821c2f",
      "metadata": {
        "id": "18821c2f"
      },
      "source": [
        "## DEPSEV Dataset"
      ]
    },
    {
      "cell_type": "code",
      "execution_count": 8,
      "id": "e35f342e",
      "metadata": {
        "id": "e35f342e"
      },
      "outputs": [],
      "source": [
        "depsev: pandas.DataFrame = pandas.read_csv(\"data/depsev.csv\")"
      ]
    },
    {
      "cell_type": "code",
      "execution_count": 9,
      "id": "c0ce1ef9",
      "metadata": {
        "colab": {
          "base_uri": "https://localhost:8080/"
        },
        "id": "c0ce1ef9",
        "outputId": "a6d26268-9900-4e6d-e1b6-08a6db0906c2"
      },
      "outputs": [
        {
          "data": {
            "text/plain": [
              "(3553, 2)"
            ]
          },
          "execution_count": 9,
          "metadata": {},
          "output_type": "execute_result"
        }
      ],
      "source": [
        "depsev.shape"
      ]
    },
    {
      "cell_type": "code",
      "execution_count": 10,
      "id": "810b915b",
      "metadata": {
        "colab": {
          "base_uri": "https://localhost:8080/"
        },
        "id": "810b915b",
        "outputId": "93a21d75-583d-449e-b182-868b9625709d"
      },
      "outputs": [
        {
          "name": "stdout",
          "output_type": "stream",
          "text": [
            "<class 'pandas.core.frame.DataFrame'>\n",
            "RangeIndex: 3553 entries, 0 to 3552\n",
            "Data columns (total 2 columns):\n",
            " #   Column  Non-Null Count  Dtype \n",
            "---  ------  --------------  ----- \n",
            " 0   text    3553 non-null   object\n",
            " 1   label   3553 non-null   object\n",
            "dtypes: object(2)\n",
            "memory usage: 2.3 MB\n"
          ]
        }
      ],
      "source": [
        "depsev.info(memory_usage=\"deep\")"
      ]
    },
    {
      "cell_type": "code",
      "execution_count": 11,
      "id": "60518e10",
      "metadata": {
        "colab": {
          "base_uri": "https://localhost:8080/",
          "height": 0
        },
        "id": "60518e10",
        "outputId": "e819d52d-2126-42e8-b826-598456e24163"
      },
      "outputs": [
        {
          "data": {
            "text/html": [
              "<div>\n",
              "<style scoped>\n",
              "    .dataframe tbody tr th:only-of-type {\n",
              "        vertical-align: middle;\n",
              "    }\n",
              "\n",
              "    .dataframe tbody tr th {\n",
              "        vertical-align: top;\n",
              "    }\n",
              "\n",
              "    .dataframe thead th {\n",
              "        text-align: right;\n",
              "    }\n",
              "</style>\n",
              "<table border=\"1\" class=\"dataframe\">\n",
              "  <thead>\n",
              "    <tr style=\"text-align: right;\">\n",
              "      <th></th>\n",
              "      <th>count</th>\n",
              "    </tr>\n",
              "    <tr>\n",
              "      <th>label</th>\n",
              "      <th></th>\n",
              "    </tr>\n",
              "  </thead>\n",
              "  <tbody>\n",
              "    <tr>\n",
              "      <th>minimum</th>\n",
              "      <td>2587</td>\n",
              "    </tr>\n",
              "    <tr>\n",
              "      <th>moderate</th>\n",
              "      <td>394</td>\n",
              "    </tr>\n",
              "    <tr>\n",
              "      <th>mild</th>\n",
              "      <td>290</td>\n",
              "    </tr>\n",
              "    <tr>\n",
              "      <th>severe</th>\n",
              "      <td>282</td>\n",
              "    </tr>\n",
              "  </tbody>\n",
              "</table>\n",
              "</div><br><label><b>dtype:</b> int64</label>"
            ],
            "text/plain": [
              "label\n",
              "minimum     2587\n",
              "moderate     394\n",
              "mild         290\n",
              "severe       282\n",
              "Name: count, dtype: int64"
            ]
          },
          "execution_count": 11,
          "metadata": {},
          "output_type": "execute_result"
        }
      ],
      "source": [
        "depsev.label.value_counts()"
      ]
    },
    {
      "cell_type": "code",
      "execution_count": 12,
      "id": "B8uA6suC-FJ1",
      "metadata": {
        "colab": {
          "base_uri": "https://localhost:8080/",
          "height": 0
        },
        "id": "B8uA6suC-FJ1",
        "outputId": "552136e0-c64d-48eb-88a6-549f8b7d650c"
      },
      "outputs": [
        {
          "data": {
            "application/vnd.google.colaboratory.intrinsic+json": {
              "summary": "{\n  \"name\": \"minimum\",\n  \"rows\": 2587,\n  \"fields\": [\n    {\n      \"column\": \"text\",\n      \"properties\": {\n        \"dtype\": \"string\",\n        \"num_unique_values\": 2568,\n        \"samples\": [\n          \"I made some dumb decisions 1-2 years back. I took out some loans i shouldn't have, and i'm paying for it dearly now. I know it was dumb, but i don't feel like i deserve to starve for it, but thats just my opinion. On the other hand, i also know that i am not owed anything, and i am deeply ashamed of myself almost every day. Honestly, i am on a verge of a mental breakdown.\",\n          \"I know the best thing for me is to find a new job, but I've been applying for quite awhile now with no luck and I really don't want to move to another job that I don't enjoy and will make me feel the exact same way. I sort of think I have an idea of what I want to do, but I have no idea how to make it happen while still paying my bills so I've been applying to anything that seems like it might be relevant to me, but I'm not sure the right way to go about getting into a field I don't have a degree in. Because of this I feel trapped in my job right now and it gets so bad some days where I feel like just walking out and quitting or just not going in ever again. I'm rambling at this point, does anyone else deal with a job that makes them completely miserable? How do you deal with it?\",\n          \"She's okay if you say a rude joke back though so she can take it too. She pokes fun at my lifestyle (I count calories by weighing things in grams, get my eyebrows waxed, go to the gym 5 days a week and jogging 1 day no matter the weather). She is also way ahead in school, and will have a bachelor's at 19 from her university, while I am in my freshman year. She also has a job in her field this year, she makes like $17 an hour and I work at a grocery store barely getting through freshman year while she's killing her senior classes. During our conversation about weird way girls have hit on me I asked about her and she listed way more weird guys than I had weird girls and I know she's hot and I know currently she has multiple offers to go Netflix and chill or go out (I've seen her open snapchats from these boys like over her shoulder while we've been hanging out).\"\n        ],\n        \"semantic_type\": \"\",\n        \"description\": \"\"\n      }\n    },\n    {\n      \"column\": \"label\",\n      \"properties\": {\n        \"dtype\": \"category\",\n        \"num_unique_values\": 1,\n        \"samples\": [\n          \"minimum\"\n        ],\n        \"semantic_type\": \"\",\n        \"description\": \"\"\n      }\n    }\n  ]\n}",
              "type": "dataframe",
              "variable_name": "minimum"
            },
            "text/html": [
              "\n",
              "  <div id=\"df-fb80daaa-439c-407a-b637-134b163eab8c\" class=\"colab-df-container\">\n",
              "    <div>\n",
              "<style scoped>\n",
              "    .dataframe tbody tr th:only-of-type {\n",
              "        vertical-align: middle;\n",
              "    }\n",
              "\n",
              "    .dataframe tbody tr th {\n",
              "        vertical-align: top;\n",
              "    }\n",
              "\n",
              "    .dataframe thead th {\n",
              "        text-align: right;\n",
              "    }\n",
              "</style>\n",
              "<table border=\"1\" class=\"dataframe\">\n",
              "  <thead>\n",
              "    <tr style=\"text-align: right;\">\n",
              "      <th></th>\n",
              "      <th>text</th>\n",
              "      <th>label</th>\n",
              "    </tr>\n",
              "  </thead>\n",
              "  <tbody>\n",
              "    <tr>\n",
              "      <th>1</th>\n",
              "      <td>Hey there r/assistance, Not sure if this is th...</td>\n",
              "      <td>minimum</td>\n",
              "    </tr>\n",
              "    <tr>\n",
              "      <th>2</th>\n",
              "      <td>My mom then hit me with the newspaper and it s...</td>\n",
              "      <td>minimum</td>\n",
              "    </tr>\n",
              "    <tr>\n",
              "      <th>6</th>\n",
              "      <td>It was a big company so luckily I didn't have ...</td>\n",
              "      <td>minimum</td>\n",
              "    </tr>\n",
              "    <tr>\n",
              "      <th>10</th>\n",
              "      <td>Next week I’ll be flying for our family vacati...</td>\n",
              "      <td>minimum</td>\n",
              "    </tr>\n",
              "    <tr>\n",
              "      <th>13</th>\n",
              "      <td>No place in my city has shelter space for us, ...</td>\n",
              "      <td>minimum</td>\n",
              "    </tr>\n",
              "  </tbody>\n",
              "</table>\n",
              "</div>\n",
              "    <div class=\"colab-df-buttons\">\n",
              "\n",
              "  <div class=\"colab-df-container\">\n",
              "    <button class=\"colab-df-convert\" onclick=\"convertToInteractive('df-fb80daaa-439c-407a-b637-134b163eab8c')\"\n",
              "            title=\"Convert this dataframe to an interactive table.\"\n",
              "            style=\"display:none;\">\n",
              "\n",
              "  <svg xmlns=\"http://www.w3.org/2000/svg\" height=\"24px\" viewBox=\"0 -960 960 960\">\n",
              "    <path d=\"M120-120v-720h720v720H120Zm60-500h600v-160H180v160Zm220 220h160v-160H400v160Zm0 220h160v-160H400v160ZM180-400h160v-160H180v160Zm440 0h160v-160H620v160ZM180-180h160v-160H180v160Zm440 0h160v-160H620v160Z\"/>\n",
              "  </svg>\n",
              "    </button>\n",
              "\n",
              "  <style>\n",
              "    .colab-df-container {\n",
              "      display:flex;\n",
              "      gap: 12px;\n",
              "    }\n",
              "\n",
              "    .colab-df-convert {\n",
              "      background-color: #E8F0FE;\n",
              "      border: none;\n",
              "      border-radius: 50%;\n",
              "      cursor: pointer;\n",
              "      display: none;\n",
              "      fill: #1967D2;\n",
              "      height: 32px;\n",
              "      padding: 0 0 0 0;\n",
              "      width: 32px;\n",
              "    }\n",
              "\n",
              "    .colab-df-convert:hover {\n",
              "      background-color: #E2EBFA;\n",
              "      box-shadow: 0px 1px 2px rgba(60, 64, 67, 0.3), 0px 1px 3px 1px rgba(60, 64, 67, 0.15);\n",
              "      fill: #174EA6;\n",
              "    }\n",
              "\n",
              "    .colab-df-buttons div {\n",
              "      margin-bottom: 4px;\n",
              "    }\n",
              "\n",
              "    [theme=dark] .colab-df-convert {\n",
              "      background-color: #3B4455;\n",
              "      fill: #D2E3FC;\n",
              "    }\n",
              "\n",
              "    [theme=dark] .colab-df-convert:hover {\n",
              "      background-color: #434B5C;\n",
              "      box-shadow: 0px 1px 3px 1px rgba(0, 0, 0, 0.15);\n",
              "      filter: drop-shadow(0px 1px 2px rgba(0, 0, 0, 0.3));\n",
              "      fill: #FFFFFF;\n",
              "    }\n",
              "  </style>\n",
              "\n",
              "    <script>\n",
              "      const buttonEl =\n",
              "        document.querySelector('#df-fb80daaa-439c-407a-b637-134b163eab8c button.colab-df-convert');\n",
              "      buttonEl.style.display =\n",
              "        google.colab.kernel.accessAllowed ? 'block' : 'none';\n",
              "\n",
              "      async function convertToInteractive(key) {\n",
              "        const element = document.querySelector('#df-fb80daaa-439c-407a-b637-134b163eab8c');\n",
              "        const dataTable =\n",
              "          await google.colab.kernel.invokeFunction('convertToInteractive',\n",
              "                                                    [key], {});\n",
              "        if (!dataTable) return;\n",
              "\n",
              "        const docLinkHtml = 'Like what you see? Visit the ' +\n",
              "          '<a target=\"_blank\" href=https://colab.research.google.com/notebooks/data_table.ipynb>data table notebook</a>'\n",
              "          + ' to learn more about interactive tables.';\n",
              "        element.innerHTML = '';\n",
              "        dataTable['output_type'] = 'display_data';\n",
              "        await google.colab.output.renderOutput(dataTable, element);\n",
              "        const docLink = document.createElement('div');\n",
              "        docLink.innerHTML = docLinkHtml;\n",
              "        element.appendChild(docLink);\n",
              "      }\n",
              "    </script>\n",
              "  </div>\n",
              "\n",
              "\n",
              "    <div id=\"df-db71f0af-272a-4ade-9c2c-ef559bf8edbb\">\n",
              "      <button class=\"colab-df-quickchart\" onclick=\"quickchart('df-db71f0af-272a-4ade-9c2c-ef559bf8edbb')\"\n",
              "                title=\"Suggest charts\"\n",
              "                style=\"display:none;\">\n",
              "\n",
              "<svg xmlns=\"http://www.w3.org/2000/svg\" height=\"24px\"viewBox=\"0 0 24 24\"\n",
              "     width=\"24px\">\n",
              "    <g>\n",
              "        <path d=\"M19 3H5c-1.1 0-2 .9-2 2v14c0 1.1.9 2 2 2h14c1.1 0 2-.9 2-2V5c0-1.1-.9-2-2-2zM9 17H7v-7h2v7zm4 0h-2V7h2v10zm4 0h-2v-4h2v4z\"/>\n",
              "    </g>\n",
              "</svg>\n",
              "      </button>\n",
              "\n",
              "<style>\n",
              "  .colab-df-quickchart {\n",
              "      --bg-color: #E8F0FE;\n",
              "      --fill-color: #1967D2;\n",
              "      --hover-bg-color: #E2EBFA;\n",
              "      --hover-fill-color: #174EA6;\n",
              "      --disabled-fill-color: #AAA;\n",
              "      --disabled-bg-color: #DDD;\n",
              "  }\n",
              "\n",
              "  [theme=dark] .colab-df-quickchart {\n",
              "      --bg-color: #3B4455;\n",
              "      --fill-color: #D2E3FC;\n",
              "      --hover-bg-color: #434B5C;\n",
              "      --hover-fill-color: #FFFFFF;\n",
              "      --disabled-bg-color: #3B4455;\n",
              "      --disabled-fill-color: #666;\n",
              "  }\n",
              "\n",
              "  .colab-df-quickchart {\n",
              "    background-color: var(--bg-color);\n",
              "    border: none;\n",
              "    border-radius: 50%;\n",
              "    cursor: pointer;\n",
              "    display: none;\n",
              "    fill: var(--fill-color);\n",
              "    height: 32px;\n",
              "    padding: 0;\n",
              "    width: 32px;\n",
              "  }\n",
              "\n",
              "  .colab-df-quickchart:hover {\n",
              "    background-color: var(--hover-bg-color);\n",
              "    box-shadow: 0 1px 2px rgba(60, 64, 67, 0.3), 0 1px 3px 1px rgba(60, 64, 67, 0.15);\n",
              "    fill: var(--button-hover-fill-color);\n",
              "  }\n",
              "\n",
              "  .colab-df-quickchart-complete:disabled,\n",
              "  .colab-df-quickchart-complete:disabled:hover {\n",
              "    background-color: var(--disabled-bg-color);\n",
              "    fill: var(--disabled-fill-color);\n",
              "    box-shadow: none;\n",
              "  }\n",
              "\n",
              "  .colab-df-spinner {\n",
              "    border: 2px solid var(--fill-color);\n",
              "    border-color: transparent;\n",
              "    border-bottom-color: var(--fill-color);\n",
              "    animation:\n",
              "      spin 1s steps(1) infinite;\n",
              "  }\n",
              "\n",
              "  @keyframes spin {\n",
              "    0% {\n",
              "      border-color: transparent;\n",
              "      border-bottom-color: var(--fill-color);\n",
              "      border-left-color: var(--fill-color);\n",
              "    }\n",
              "    20% {\n",
              "      border-color: transparent;\n",
              "      border-left-color: var(--fill-color);\n",
              "      border-top-color: var(--fill-color);\n",
              "    }\n",
              "    30% {\n",
              "      border-color: transparent;\n",
              "      border-left-color: var(--fill-color);\n",
              "      border-top-color: var(--fill-color);\n",
              "      border-right-color: var(--fill-color);\n",
              "    }\n",
              "    40% {\n",
              "      border-color: transparent;\n",
              "      border-right-color: var(--fill-color);\n",
              "      border-top-color: var(--fill-color);\n",
              "    }\n",
              "    60% {\n",
              "      border-color: transparent;\n",
              "      border-right-color: var(--fill-color);\n",
              "    }\n",
              "    80% {\n",
              "      border-color: transparent;\n",
              "      border-right-color: var(--fill-color);\n",
              "      border-bottom-color: var(--fill-color);\n",
              "    }\n",
              "    90% {\n",
              "      border-color: transparent;\n",
              "      border-bottom-color: var(--fill-color);\n",
              "    }\n",
              "  }\n",
              "</style>\n",
              "\n",
              "      <script>\n",
              "        async function quickchart(key) {\n",
              "          const quickchartButtonEl =\n",
              "            document.querySelector('#' + key + ' button');\n",
              "          quickchartButtonEl.disabled = true;  // To prevent multiple clicks.\n",
              "          quickchartButtonEl.classList.add('colab-df-spinner');\n",
              "          try {\n",
              "            const charts = await google.colab.kernel.invokeFunction(\n",
              "                'suggestCharts', [key], {});\n",
              "          } catch (error) {\n",
              "            console.error('Error during call to suggestCharts:', error);\n",
              "          }\n",
              "          quickchartButtonEl.classList.remove('colab-df-spinner');\n",
              "          quickchartButtonEl.classList.add('colab-df-quickchart-complete');\n",
              "        }\n",
              "        (() => {\n",
              "          let quickchartButtonEl =\n",
              "            document.querySelector('#df-db71f0af-272a-4ade-9c2c-ef559bf8edbb button');\n",
              "          quickchartButtonEl.style.display =\n",
              "            google.colab.kernel.accessAllowed ? 'block' : 'none';\n",
              "        })();\n",
              "      </script>\n",
              "    </div>\n",
              "\n",
              "    </div>\n",
              "  </div>\n"
            ],
            "text/plain": [
              "                                                 text    label\n",
              "1   Hey there r/assistance, Not sure if this is th...  minimum\n",
              "2   My mom then hit me with the newspaper and it s...  minimum\n",
              "6   It was a big company so luckily I didn't have ...  minimum\n",
              "10  Next week I’ll be flying for our family vacati...  minimum\n",
              "13  No place in my city has shelter space for us, ...  minimum"
            ]
          },
          "execution_count": 12,
          "metadata": {},
          "output_type": "execute_result"
        }
      ],
      "source": [
        "minimum: pandas.DataFrame = depsev[depsev.label == \"minimum\"]\n",
        "minimum.head()"
      ]
    },
    {
      "cell_type": "code",
      "execution_count": 13,
      "id": "xPgnb197-uV9",
      "metadata": {
        "colab": {
          "base_uri": "https://localhost:8080/"
        },
        "id": "xPgnb197-uV9",
        "outputId": "2cde815f-5999-4ef7-ed3f-eeb3d05949d7"
      },
      "outputs": [
        {
          "data": {
            "text/plain": [
              "array(['moderate', 'not depression', 'severe'], dtype=object)"
            ]
          },
          "execution_count": 13,
          "metadata": {},
          "output_type": "execute_result"
        }
      ],
      "source": [
        "label_map: dict[str, str] = {\n",
        "    \"minimum\": \"not depression\",\n",
        "    \"mild\": \"moderate\"\n",
        "}\n",
        "\n",
        "depsev.label = depsev.label.replace(label_map)\n",
        "depsev.label.unique()"
      ]
    },
    {
      "cell_type": "code",
      "execution_count": 14,
      "id": "HsZUaaZOC1xJ",
      "metadata": {
        "colab": {
          "base_uri": "https://localhost:8080/",
          "height": 0
        },
        "id": "HsZUaaZOC1xJ",
        "outputId": "1a388b6d-ed32-437a-db05-471023573bf2"
      },
      "outputs": [
        {
          "data": {
            "text/html": [
              "<div>\n",
              "<style scoped>\n",
              "    .dataframe tbody tr th:only-of-type {\n",
              "        vertical-align: middle;\n",
              "    }\n",
              "\n",
              "    .dataframe tbody tr th {\n",
              "        vertical-align: top;\n",
              "    }\n",
              "\n",
              "    .dataframe thead th {\n",
              "        text-align: right;\n",
              "    }\n",
              "</style>\n",
              "<table border=\"1\" class=\"dataframe\">\n",
              "  <thead>\n",
              "    <tr style=\"text-align: right;\">\n",
              "      <th></th>\n",
              "      <th>count</th>\n",
              "    </tr>\n",
              "    <tr>\n",
              "      <th>label</th>\n",
              "      <th></th>\n",
              "    </tr>\n",
              "  </thead>\n",
              "  <tbody>\n",
              "    <tr>\n",
              "      <th>not depression</th>\n",
              "      <td>2587</td>\n",
              "    </tr>\n",
              "    <tr>\n",
              "      <th>moderate</th>\n",
              "      <td>684</td>\n",
              "    </tr>\n",
              "    <tr>\n",
              "      <th>severe</th>\n",
              "      <td>282</td>\n",
              "    </tr>\n",
              "  </tbody>\n",
              "</table>\n",
              "</div><br><label><b>dtype:</b> int64</label>"
            ],
            "text/plain": [
              "label\n",
              "not depression    2587\n",
              "moderate           684\n",
              "severe             282\n",
              "Name: count, dtype: int64"
            ]
          },
          "execution_count": 14,
          "metadata": {},
          "output_type": "execute_result"
        }
      ],
      "source": [
        "depsev.label.value_counts()"
      ]
    },
    {
      "cell_type": "markdown",
      "id": "7dd0cea7",
      "metadata": {
        "id": "7dd0cea7"
      },
      "source": [
        "## DEPSIGN Dataset"
      ]
    },
    {
      "cell_type": "code",
      "execution_count": 15,
      "id": "cc523df7",
      "metadata": {
        "id": "cc523df7"
      },
      "outputs": [],
      "source": [
        "depsign_1: pandas.DataFrame = pandas.read_csv(\"data/depsign_1.tsv\", sep=\"\\t\")\n",
        "depsign_2: pandas.DataFrame = pandas.read_csv(\"data/depsign_2.tsv\", sep=\"\\t\")\n",
        "depsign_3: pandas.DataFrame = pandas.read_csv(\"data/depsign_3.tsv\", sep=\"\\t\")"
      ]
    },
    {
      "cell_type": "markdown",
      "id": "9bc7c789",
      "metadata": {
        "id": "9bc7c789"
      },
      "source": [
        "### DEPSIGN 1"
      ]
    },
    {
      "cell_type": "code",
      "execution_count": 16,
      "id": "2b529f96",
      "metadata": {
        "colab": {
          "base_uri": "https://localhost:8080/"
        },
        "id": "2b529f96",
        "outputId": "3434b418-91b2-4d68-b053-285464704c36"
      },
      "outputs": [
        {
          "data": {
            "text/plain": [
              "(4496, 3)"
            ]
          },
          "execution_count": 16,
          "metadata": {},
          "output_type": "execute_result"
        }
      ],
      "source": [
        "depsign_1.shape"
      ]
    },
    {
      "cell_type": "code",
      "execution_count": 17,
      "id": "28fa58d3",
      "metadata": {
        "colab": {
          "base_uri": "https://localhost:8080/"
        },
        "id": "28fa58d3",
        "outputId": "dc9df51d-64bb-46ae-95c5-79923d14cd3d"
      },
      "outputs": [
        {
          "name": "stdout",
          "output_type": "stream",
          "text": [
            "<class 'pandas.core.frame.DataFrame'>\n",
            "RangeIndex: 4496 entries, 0 to 4495\n",
            "Data columns (total 3 columns):\n",
            " #   Column     Non-Null Count  Dtype \n",
            "---  ------     --------------  ----- \n",
            " 0   PID        4496 non-null   object\n",
            " 1   Text data  4496 non-null   object\n",
            " 2   Label      4496 non-null   object\n",
            "dtypes: object(3)\n",
            "memory usage: 6.1 MB\n"
          ]
        }
      ],
      "source": [
        "depsign_1.info(memory_usage=\"deep\")"
      ]
    },
    {
      "cell_type": "code",
      "execution_count": 18,
      "id": "abfd2551",
      "metadata": {
        "colab": {
          "base_uri": "https://localhost:8080/",
          "height": 0
        },
        "id": "abfd2551",
        "outputId": "614b28ca-304a-4d1e-c05b-fd6553bdb282"
      },
      "outputs": [
        {
          "data": {
            "text/html": [
              "<div>\n",
              "<style scoped>\n",
              "    .dataframe tbody tr th:only-of-type {\n",
              "        vertical-align: middle;\n",
              "    }\n",
              "\n",
              "    .dataframe tbody tr th {\n",
              "        vertical-align: top;\n",
              "    }\n",
              "\n",
              "    .dataframe thead th {\n",
              "        text-align: right;\n",
              "    }\n",
              "</style>\n",
              "<table border=\"1\" class=\"dataframe\">\n",
              "  <thead>\n",
              "    <tr style=\"text-align: right;\">\n",
              "      <th></th>\n",
              "      <th>count</th>\n",
              "    </tr>\n",
              "    <tr>\n",
              "      <th>Label</th>\n",
              "      <th></th>\n",
              "    </tr>\n",
              "  </thead>\n",
              "  <tbody>\n",
              "    <tr>\n",
              "      <th>moderate</th>\n",
              "      <td>2306</td>\n",
              "    </tr>\n",
              "    <tr>\n",
              "      <th>not depression</th>\n",
              "      <td>1830</td>\n",
              "    </tr>\n",
              "    <tr>\n",
              "      <th>severe</th>\n",
              "      <td>360</td>\n",
              "    </tr>\n",
              "  </tbody>\n",
              "</table>\n",
              "</div><br><label><b>dtype:</b> int64</label>"
            ],
            "text/plain": [
              "Label\n",
              "moderate          2306\n",
              "not depression    1830\n",
              "severe             360\n",
              "Name: count, dtype: int64"
            ]
          },
          "execution_count": 18,
          "metadata": {},
          "output_type": "execute_result"
        }
      ],
      "source": [
        "depsign_1.Label.value_counts()"
      ]
    },
    {
      "cell_type": "code",
      "execution_count": 19,
      "id": "507afc9f",
      "metadata": {
        "colab": {
          "base_uri": "https://localhost:8080/"
        },
        "id": "507afc9f",
        "outputId": "33c08281-9334-4551-f785-3d613afe1323"
      },
      "outputs": [
        {
          "data": {
            "text/plain": [
              "Index(['pid', 'text_data', 'label'], dtype='object')"
            ]
          },
          "execution_count": 19,
          "metadata": {},
          "output_type": "execute_result"
        }
      ],
      "source": [
        "depsign_1 = clean_colnames(depsign_1)\n",
        "depsign_1.columns"
      ]
    },
    {
      "cell_type": "code",
      "execution_count": 20,
      "id": "bf1d23d4",
      "metadata": {
        "colab": {
          "base_uri": "https://localhost:8080/"
        },
        "id": "bf1d23d4",
        "outputId": "9e79f1cb-de12-485b-99aa-4ae439a245e5"
      },
      "outputs": [
        {
          "data": {
            "text/plain": [
              "Index(['pid', 'text', 'label'], dtype='object')"
            ]
          },
          "execution_count": 20,
          "metadata": {},
          "output_type": "execute_result"
        }
      ],
      "source": [
        "depsign_1 = normalize_colnames(depsign_1)\n",
        "depsign_1.columns"
      ]
    },
    {
      "cell_type": "code",
      "execution_count": 21,
      "id": "639d2434",
      "metadata": {
        "colab": {
          "base_uri": "https://localhost:8080/"
        },
        "id": "639d2434",
        "outputId": "7fc2ab64-ee03-417e-c993-0bb606744bad"
      },
      "outputs": [
        {
          "data": {
            "text/plain": [
              "Index(['text', 'label'], dtype='object')"
            ]
          },
          "execution_count": 21,
          "metadata": {},
          "output_type": "execute_result"
        }
      ],
      "source": [
        "depsign_1 = remove_ids(depsign_1)\n",
        "depsign_1.columns"
      ]
    },
    {
      "cell_type": "markdown",
      "id": "7f5e88cd",
      "metadata": {
        "id": "7f5e88cd"
      },
      "source": [
        "### DEPSIGN 2"
      ]
    },
    {
      "cell_type": "code",
      "execution_count": 22,
      "id": "c302c8e2",
      "metadata": {
        "colab": {
          "base_uri": "https://localhost:8080/"
        },
        "id": "c302c8e2",
        "outputId": "dfb1bfeb-9c8a-4498-cbc1-e733fc5ab97b"
      },
      "outputs": [
        {
          "data": {
            "text/plain": [
              "(3245, 3)"
            ]
          },
          "execution_count": 22,
          "metadata": {},
          "output_type": "execute_result"
        }
      ],
      "source": [
        "depsign_2.shape"
      ]
    },
    {
      "cell_type": "code",
      "execution_count": 23,
      "id": "6c2193bd",
      "metadata": {
        "colab": {
          "base_uri": "https://localhost:8080/"
        },
        "id": "6c2193bd",
        "outputId": "3e71946e-5b53-466a-8102-448c3eecbacf"
      },
      "outputs": [
        {
          "name": "stdout",
          "output_type": "stream",
          "text": [
            "<class 'pandas.core.frame.DataFrame'>\n",
            "RangeIndex: 3245 entries, 0 to 3244\n",
            "Data columns (total 3 columns):\n",
            " #   Column        Non-Null Count  Dtype \n",
            "---  ------        --------------  ----- \n",
            " 0   Pid           3245 non-null   object\n",
            " 1   text data     3245 non-null   object\n",
            " 2   Class labels  3245 non-null   object\n",
            "dtypes: object(3)\n",
            "memory usage: 4.4 MB\n"
          ]
        }
      ],
      "source": [
        "depsign_2.info(memory_usage=\"deep\")"
      ]
    },
    {
      "cell_type": "code",
      "execution_count": 24,
      "id": "044a8caa",
      "metadata": {
        "colab": {
          "base_uri": "https://localhost:8080/",
          "height": 0
        },
        "id": "044a8caa",
        "outputId": "d9790e80-e25f-4914-a8fb-69f23086de49"
      },
      "outputs": [
        {
          "data": {
            "text/html": [
              "<div>\n",
              "<style scoped>\n",
              "    .dataframe tbody tr th:only-of-type {\n",
              "        vertical-align: middle;\n",
              "    }\n",
              "\n",
              "    .dataframe tbody tr th {\n",
              "        vertical-align: top;\n",
              "    }\n",
              "\n",
              "    .dataframe thead th {\n",
              "        text-align: right;\n",
              "    }\n",
              "</style>\n",
              "<table border=\"1\" class=\"dataframe\">\n",
              "  <thead>\n",
              "    <tr style=\"text-align: right;\">\n",
              "      <th></th>\n",
              "      <th>count</th>\n",
              "    </tr>\n",
              "    <tr>\n",
              "      <th>Class labels</th>\n",
              "      <th></th>\n",
              "    </tr>\n",
              "  </thead>\n",
              "  <tbody>\n",
              "    <tr>\n",
              "      <th>moderate</th>\n",
              "      <td>2169</td>\n",
              "    </tr>\n",
              "    <tr>\n",
              "      <th>not depression</th>\n",
              "      <td>848</td>\n",
              "    </tr>\n",
              "    <tr>\n",
              "      <th>severe</th>\n",
              "      <td>228</td>\n",
              "    </tr>\n",
              "  </tbody>\n",
              "</table>\n",
              "</div><br><label><b>dtype:</b> int64</label>"
            ],
            "text/plain": [
              "Class labels\n",
              "moderate          2169\n",
              "not depression     848\n",
              "severe             228\n",
              "Name: count, dtype: int64"
            ]
          },
          "execution_count": 24,
          "metadata": {},
          "output_type": "execute_result"
        }
      ],
      "source": [
        "depsign_2[\"Class labels\"].value_counts()"
      ]
    },
    {
      "cell_type": "code",
      "execution_count": 25,
      "id": "78d53c5c",
      "metadata": {
        "colab": {
          "base_uri": "https://localhost:8080/"
        },
        "id": "78d53c5c",
        "outputId": "2b9b2528-6919-47c9-9d63-53b405ed6e16"
      },
      "outputs": [
        {
          "data": {
            "text/plain": [
              "Index(['pid', 'text_data', 'class_labels'], dtype='object')"
            ]
          },
          "execution_count": 25,
          "metadata": {},
          "output_type": "execute_result"
        }
      ],
      "source": [
        "depsign_2 = clean_colnames(depsign_2)\n",
        "depsign_2.columns"
      ]
    },
    {
      "cell_type": "code",
      "execution_count": 26,
      "id": "2c5d1a8e",
      "metadata": {
        "colab": {
          "base_uri": "https://localhost:8080/"
        },
        "id": "2c5d1a8e",
        "outputId": "9126a74d-0119-4b2b-eebb-95eb57fc5b7e"
      },
      "outputs": [
        {
          "data": {
            "text/plain": [
              "Index(['pid', 'text', 'label'], dtype='object')"
            ]
          },
          "execution_count": 26,
          "metadata": {},
          "output_type": "execute_result"
        }
      ],
      "source": [
        "depsign_2 = normalize_colnames(depsign_2)\n",
        "depsign_2.columns"
      ]
    },
    {
      "cell_type": "code",
      "execution_count": 27,
      "id": "ab8562b0",
      "metadata": {
        "colab": {
          "base_uri": "https://localhost:8080/"
        },
        "id": "ab8562b0",
        "outputId": "118c6cae-bcd1-4701-c317-cc335e76578c"
      },
      "outputs": [
        {
          "data": {
            "text/plain": [
              "Index(['text', 'label'], dtype='object')"
            ]
          },
          "execution_count": 27,
          "metadata": {},
          "output_type": "execute_result"
        }
      ],
      "source": [
        "depsign_2 = remove_ids(depsign_2)\n",
        "depsign_2.columns"
      ]
    },
    {
      "cell_type": "markdown",
      "id": "78100373",
      "metadata": {
        "id": "78100373"
      },
      "source": [
        "### DEPSIGN 3"
      ]
    },
    {
      "cell_type": "code",
      "execution_count": 28,
      "id": "00d3e31e",
      "metadata": {
        "colab": {
          "base_uri": "https://localhost:8080/"
        },
        "id": "00d3e31e",
        "outputId": "2e193582-82f1-484c-d019-50cd5cce5523"
      },
      "outputs": [
        {
          "data": {
            "text/plain": [
              "(8891, 3)"
            ]
          },
          "execution_count": 28,
          "metadata": {},
          "output_type": "execute_result"
        }
      ],
      "source": [
        "depsign_3.shape"
      ]
    },
    {
      "cell_type": "code",
      "execution_count": 29,
      "id": "b05bee20",
      "metadata": {
        "colab": {
          "base_uri": "https://localhost:8080/"
        },
        "id": "b05bee20",
        "outputId": "2063f4e5-5ed2-4845-a054-4ba9fde42b49"
      },
      "outputs": [
        {
          "name": "stdout",
          "output_type": "stream",
          "text": [
            "<class 'pandas.core.frame.DataFrame'>\n",
            "RangeIndex: 8891 entries, 0 to 8890\n",
            "Data columns (total 3 columns):\n",
            " #   Column     Non-Null Count  Dtype \n",
            "---  ------     --------------  ----- \n",
            " 0   PID        8891 non-null   object\n",
            " 1   Text_data  8891 non-null   object\n",
            " 2   Label      8891 non-null   object\n",
            "dtypes: object(3)\n",
            "memory usage: 10.7 MB\n"
          ]
        }
      ],
      "source": [
        "depsign_3.info(memory_usage=\"deep\")"
      ]
    },
    {
      "cell_type": "code",
      "execution_count": 30,
      "id": "fe03c891",
      "metadata": {
        "colab": {
          "base_uri": "https://localhost:8080/",
          "height": 0
        },
        "id": "fe03c891",
        "outputId": "36d462fe-5488-4aff-8985-a6e3c5fcadb7"
      },
      "outputs": [
        {
          "data": {
            "text/html": [
              "<div>\n",
              "<style scoped>\n",
              "    .dataframe tbody tr th:only-of-type {\n",
              "        vertical-align: middle;\n",
              "    }\n",
              "\n",
              "    .dataframe tbody tr th {\n",
              "        vertical-align: top;\n",
              "    }\n",
              "\n",
              "    .dataframe thead th {\n",
              "        text-align: right;\n",
              "    }\n",
              "</style>\n",
              "<table border=\"1\" class=\"dataframe\">\n",
              "  <thead>\n",
              "    <tr style=\"text-align: right;\">\n",
              "      <th></th>\n",
              "      <th>count</th>\n",
              "    </tr>\n",
              "    <tr>\n",
              "      <th>Label</th>\n",
              "      <th></th>\n",
              "    </tr>\n",
              "  </thead>\n",
              "  <tbody>\n",
              "    <tr>\n",
              "      <th>moderate</th>\n",
              "      <td>6019</td>\n",
              "    </tr>\n",
              "    <tr>\n",
              "      <th>not depression</th>\n",
              "      <td>1971</td>\n",
              "    </tr>\n",
              "    <tr>\n",
              "      <th>severe</th>\n",
              "      <td>901</td>\n",
              "    </tr>\n",
              "  </tbody>\n",
              "</table>\n",
              "</div><br><label><b>dtype:</b> int64</label>"
            ],
            "text/plain": [
              "Label\n",
              "moderate          6019\n",
              "not depression    1971\n",
              "severe             901\n",
              "Name: count, dtype: int64"
            ]
          },
          "execution_count": 30,
          "metadata": {},
          "output_type": "execute_result"
        }
      ],
      "source": [
        "depsign_3.Label.value_counts()"
      ]
    },
    {
      "cell_type": "code",
      "execution_count": 31,
      "id": "9f6208fe",
      "metadata": {
        "colab": {
          "base_uri": "https://localhost:8080/"
        },
        "id": "9f6208fe",
        "outputId": "1d7746a3-93c7-42f9-a910-81ee13cb9a1c"
      },
      "outputs": [
        {
          "data": {
            "text/plain": [
              "Index(['pid', 'text_data', 'label'], dtype='object')"
            ]
          },
          "execution_count": 31,
          "metadata": {},
          "output_type": "execute_result"
        }
      ],
      "source": [
        "depsign_3 = clean_colnames(depsign_3)\n",
        "depsign_3.columns"
      ]
    },
    {
      "cell_type": "code",
      "execution_count": 32,
      "id": "c5ff59cb",
      "metadata": {
        "colab": {
          "base_uri": "https://localhost:8080/"
        },
        "id": "c5ff59cb",
        "outputId": "a9c3b9b4-0ceb-4fd2-91b9-7d76c3f36f45"
      },
      "outputs": [
        {
          "data": {
            "text/plain": [
              "Index(['pid', 'text', 'label'], dtype='object')"
            ]
          },
          "execution_count": 32,
          "metadata": {},
          "output_type": "execute_result"
        }
      ],
      "source": [
        "depsign_3 = normalize_colnames(depsign_3)\n",
        "depsign_3.columns"
      ]
    },
    {
      "cell_type": "code",
      "execution_count": 33,
      "id": "b48d1fb4",
      "metadata": {
        "colab": {
          "base_uri": "https://localhost:8080/"
        },
        "id": "b48d1fb4",
        "outputId": "46abf853-6515-4385-d3b6-1fde99718841"
      },
      "outputs": [
        {
          "data": {
            "text/plain": [
              "Index(['text', 'label'], dtype='object')"
            ]
          },
          "execution_count": 33,
          "metadata": {},
          "output_type": "execute_result"
        }
      ],
      "source": [
        "depsign_3 = remove_ids(depsign_3)\n",
        "depsign_3.columns"
      ]
    },
    {
      "cell_type": "markdown",
      "id": "03fd2c88",
      "metadata": {
        "id": "03fd2c88"
      },
      "source": [
        "### Merge DEPSIGN Datasets"
      ]
    },
    {
      "cell_type": "code",
      "execution_count": 34,
      "id": "7ef3769b",
      "metadata": {
        "id": "7ef3769b"
      },
      "outputs": [],
      "source": [
        "depsign: pandas.DataFrame = pandas.concat([depsign_1, depsign_2, depsign_3], ignore_index=True)"
      ]
    },
    {
      "cell_type": "code",
      "execution_count": 35,
      "id": "6871f9bb",
      "metadata": {
        "colab": {
          "base_uri": "https://localhost:8080/"
        },
        "id": "6871f9bb",
        "outputId": "e925d769-5272-4bdd-a568-c21e8c15ea71"
      },
      "outputs": [
        {
          "data": {
            "text/plain": [
              "(16632, 2)"
            ]
          },
          "execution_count": 35,
          "metadata": {},
          "output_type": "execute_result"
        }
      ],
      "source": [
        "depsign.shape"
      ]
    },
    {
      "cell_type": "code",
      "execution_count": 36,
      "id": "5fc3a777",
      "metadata": {
        "colab": {
          "base_uri": "https://localhost:8080/"
        },
        "id": "5fc3a777",
        "outputId": "95bc3ac0-fe11-461b-c77f-40466d03a4f3"
      },
      "outputs": [
        {
          "name": "stdout",
          "output_type": "stream",
          "text": [
            "<class 'pandas.core.frame.DataFrame'>\n",
            "RangeIndex: 16632 entries, 0 to 16631\n",
            "Data columns (total 2 columns):\n",
            " #   Column  Non-Null Count  Dtype \n",
            "---  ------  --------------  ----- \n",
            " 0   text    16632 non-null  object\n",
            " 1   label   16632 non-null  object\n",
            "dtypes: object(2)\n",
            "memory usage: 20.1 MB\n"
          ]
        }
      ],
      "source": [
        "depsign.info(memory_usage=\"deep\")"
      ]
    },
    {
      "cell_type": "code",
      "execution_count": 37,
      "id": "a9f80e9c",
      "metadata": {
        "colab": {
          "base_uri": "https://localhost:8080/",
          "height": 210
        },
        "id": "a9f80e9c",
        "outputId": "fbbcde0c-8f5b-418c-8f38-baaa6a598334"
      },
      "outputs": [
        {
          "data": {
            "text/html": [
              "<div>\n",
              "<style scoped>\n",
              "    .dataframe tbody tr th:only-of-type {\n",
              "        vertical-align: middle;\n",
              "    }\n",
              "\n",
              "    .dataframe tbody tr th {\n",
              "        vertical-align: top;\n",
              "    }\n",
              "\n",
              "    .dataframe thead th {\n",
              "        text-align: right;\n",
              "    }\n",
              "</style>\n",
              "<table border=\"1\" class=\"dataframe\">\n",
              "  <thead>\n",
              "    <tr style=\"text-align: right;\">\n",
              "      <th></th>\n",
              "      <th>count</th>\n",
              "    </tr>\n",
              "    <tr>\n",
              "      <th>label</th>\n",
              "      <th></th>\n",
              "    </tr>\n",
              "  </thead>\n",
              "  <tbody>\n",
              "    <tr>\n",
              "      <th>moderate</th>\n",
              "      <td>10494</td>\n",
              "    </tr>\n",
              "    <tr>\n",
              "      <th>not depression</th>\n",
              "      <td>4649</td>\n",
              "    </tr>\n",
              "    <tr>\n",
              "      <th>severe</th>\n",
              "      <td>1489</td>\n",
              "    </tr>\n",
              "  </tbody>\n",
              "</table>\n",
              "</div><br><label><b>dtype:</b> int64</label>"
            ],
            "text/plain": [
              "label\n",
              "moderate          10494\n",
              "not depression     4649\n",
              "severe             1489\n",
              "Name: count, dtype: int64"
            ]
          },
          "execution_count": 37,
          "metadata": {},
          "output_type": "execute_result"
        }
      ],
      "source": [
        "depsign.label.value_counts()"
      ]
    },
    {
      "cell_type": "code",
      "execution_count": 38,
      "id": "2a2db729",
      "metadata": {
        "id": "2a2db729"
      },
      "outputs": [],
      "source": [
        "depsign.to_csv(\"data/depsign.csv\", index=False)"
      ]
    },
    {
      "cell_type": "markdown",
      "id": "cga02lmTY3ti",
      "metadata": {
        "id": "cga02lmTY3ti"
      },
      "source": [
        "## Create the Final Dataset"
      ]
    },
    {
      "cell_type": "code",
      "execution_count": 39,
      "id": "J94mQ3CzY_8_",
      "metadata": {
        "id": "J94mQ3CzY_8_"
      },
      "outputs": [],
      "source": [
        "depset: pandas.DataFrame = pandas.concat([depsev, depsign], ignore_index=True)"
      ]
    },
    {
      "cell_type": "code",
      "execution_count": 40,
      "id": "EMVlsa-hZOqJ",
      "metadata": {
        "colab": {
          "base_uri": "https://localhost:8080/"
        },
        "id": "EMVlsa-hZOqJ",
        "outputId": "b4c20fe4-eca0-47a5-ce19-b932b27242ed"
      },
      "outputs": [
        {
          "data": {
            "text/plain": [
              "(20185, 2)"
            ]
          },
          "execution_count": 40,
          "metadata": {},
          "output_type": "execute_result"
        }
      ],
      "source": [
        "depset.shape"
      ]
    },
    {
      "cell_type": "code",
      "execution_count": 41,
      "id": "k5YGBrm3ZRdC",
      "metadata": {
        "colab": {
          "base_uri": "https://localhost:8080/"
        },
        "id": "k5YGBrm3ZRdC",
        "outputId": "4be6e191-ee0e-4c0f-a39a-9f6deed16711"
      },
      "outputs": [
        {
          "name": "stdout",
          "output_type": "stream",
          "text": [
            "<class 'pandas.core.frame.DataFrame'>\n",
            "RangeIndex: 20185 entries, 0 to 20184\n",
            "Data columns (total 2 columns):\n",
            " #   Column  Non-Null Count  Dtype \n",
            "---  ------  --------------  ----- \n",
            " 0   text    20185 non-null  object\n",
            " 1   label   20185 non-null  object\n",
            "dtypes: object(2)\n",
            "memory usage: 22.6 MB\n"
          ]
        }
      ],
      "source": [
        "depset.info(memory_usage=\"deep\")"
      ]
    },
    {
      "cell_type": "code",
      "execution_count": 42,
      "id": "3K3n0Eu4ZTW4",
      "metadata": {
        "colab": {
          "base_uri": "https://localhost:8080/",
          "height": 210
        },
        "id": "3K3n0Eu4ZTW4",
        "outputId": "df1123bb-0c60-40e4-dc31-f3daaf71b32b"
      },
      "outputs": [
        {
          "data": {
            "text/html": [
              "<div>\n",
              "<style scoped>\n",
              "    .dataframe tbody tr th:only-of-type {\n",
              "        vertical-align: middle;\n",
              "    }\n",
              "\n",
              "    .dataframe tbody tr th {\n",
              "        vertical-align: top;\n",
              "    }\n",
              "\n",
              "    .dataframe thead th {\n",
              "        text-align: right;\n",
              "    }\n",
              "</style>\n",
              "<table border=\"1\" class=\"dataframe\">\n",
              "  <thead>\n",
              "    <tr style=\"text-align: right;\">\n",
              "      <th></th>\n",
              "      <th>count</th>\n",
              "    </tr>\n",
              "    <tr>\n",
              "      <th>label</th>\n",
              "      <th></th>\n",
              "    </tr>\n",
              "  </thead>\n",
              "  <tbody>\n",
              "    <tr>\n",
              "      <th>moderate</th>\n",
              "      <td>11178</td>\n",
              "    </tr>\n",
              "    <tr>\n",
              "      <th>not depression</th>\n",
              "      <td>7236</td>\n",
              "    </tr>\n",
              "    <tr>\n",
              "      <th>severe</th>\n",
              "      <td>1771</td>\n",
              "    </tr>\n",
              "  </tbody>\n",
              "</table>\n",
              "</div><br><label><b>dtype:</b> int64</label>"
            ],
            "text/plain": [
              "label\n",
              "moderate          11178\n",
              "not depression     7236\n",
              "severe             1771\n",
              "Name: count, dtype: int64"
            ]
          },
          "execution_count": 42,
          "metadata": {},
          "output_type": "execute_result"
        }
      ],
      "source": [
        "depset.label.value_counts()"
      ]
    },
    {
      "cell_type": "code",
      "execution_count": 43,
      "id": "gWVxC5Y2ZmkP",
      "metadata": {
        "id": "gWVxC5Y2ZmkP"
      },
      "outputs": [],
      "source": [
        "depset.to_csv(\"data/depset.csv\", index=False)"
      ]
    },
    {
      "cell_type": "markdown",
      "id": "bd0d5f2b",
      "metadata": {},
      "source": [
        "## Final Cleaning Steps"
      ]
    },
    {
      "cell_type": "markdown",
      "id": "d5a10306",
      "metadata": {},
      "source": [
        "### Check for NULL Values"
      ]
    },
    {
      "cell_type": "code",
      "execution_count": null,
      "id": "7c18760a",
      "metadata": {},
      "outputs": [
        {
          "data": {
            "text/html": [
              "<div>\n",
              "<style scoped>\n",
              "    .dataframe tbody tr th:only-of-type {\n",
              "        vertical-align: middle;\n",
              "    }\n",
              "\n",
              "    .dataframe tbody tr th {\n",
              "        vertical-align: top;\n",
              "    }\n",
              "\n",
              "    .dataframe thead th {\n",
              "        text-align: right;\n",
              "    }\n",
              "</style>\n",
              "<table border=\"1\" class=\"dataframe\">\n",
              "  <thead>\n",
              "    <tr style=\"text-align: right;\">\n",
              "      <th></th>\n",
              "      <th>0</th>\n",
              "    </tr>\n",
              "  </thead>\n",
              "  <tbody>\n",
              "    <tr>\n",
              "      <th>text</th>\n",
              "      <td>0</td>\n",
              "    </tr>\n",
              "    <tr>\n",
              "      <th>label</th>\n",
              "      <td>0</td>\n",
              "    </tr>\n",
              "  </tbody>\n",
              "</table>\n",
              "</div><br><label><b>dtype:</b> int64</label>"
            ],
            "text/plain": [
              "text     0\n",
              "label    0\n",
              "dtype: int64"
            ]
          },
          "metadata": {},
          "output_type": "display_data"
        }
      ],
      "source": [
        "depset.isnull().sum()"
      ]
    },
    {
      "cell_type": "markdown",
      "id": "5b6feb51",
      "metadata": {},
      "source": [
        "### Check for Duplicate Values"
      ]
    },
    {
      "cell_type": "code",
      "execution_count": null,
      "id": "df0edd18",
      "metadata": {},
      "outputs": [
        {
          "data": {
            "text/plain": [
              "np.int64(6417)"
            ]
          },
          "metadata": {},
          "output_type": "display_data"
        }
      ],
      "source": [
        "depset.duplicated(subset=[\"text\"]).sum()"
      ]
    },
    {
      "cell_type": "code",
      "execution_count": null,
      "id": "c3dda792",
      "metadata": {},
      "outputs": [
        {
          "data": {
            "text/html": [
              "<div>\n",
              "<style scoped>\n",
              "    .dataframe tbody tr th:only-of-type {\n",
              "        vertical-align: middle;\n",
              "    }\n",
              "\n",
              "    .dataframe tbody tr th {\n",
              "        vertical-align: top;\n",
              "    }\n",
              "\n",
              "    .dataframe thead th {\n",
              "        text-align: right;\n",
              "    }\n",
              "</style>\n",
              "<table border=\"1\" class=\"dataframe\">\n",
              "  <thead>\n",
              "    <tr style=\"text-align: right;\">\n",
              "      <th></th>\n",
              "      <th>count</th>\n",
              "    </tr>\n",
              "    <tr>\n",
              "      <th>label</th>\n",
              "      <th></th>\n",
              "    </tr>\n",
              "  </thead>\n",
              "  <tbody>\n",
              "    <tr>\n",
              "      <th>moderate</th>\n",
              "      <td>4740</td>\n",
              "    </tr>\n",
              "    <tr>\n",
              "      <th>not depression</th>\n",
              "      <td>1124</td>\n",
              "    </tr>\n",
              "    <tr>\n",
              "      <th>severe</th>\n",
              "      <td>553</td>\n",
              "    </tr>\n",
              "  </tbody>\n",
              "</table>\n",
              "</div><br><label><b>dtype:</b> int64</label>"
            ],
            "text/plain": [
              "label\n",
              "moderate          4740\n",
              "not depression    1124\n",
              "severe             553\n",
              "Name: count, dtype: int64"
            ]
          },
          "metadata": {},
          "output_type": "display_data"
        }
      ],
      "source": [
        "duplicates = depset[depset.duplicated(subset=[\"text\"])]\n",
        "duplicates.label.value_counts()"
      ]
    },
    {
      "cell_type": "markdown",
      "id": "a2d42f5a",
      "metadata": {},
      "source": [
        "#### Drop Duplicate Values"
      ]
    },
    {
      "cell_type": "code",
      "execution_count": null,
      "id": "4eeb2073",
      "metadata": {},
      "outputs": [],
      "source": [
        "depset = depset.drop_duplicates(subset=[\"text\"], keep=\"first\")"
      ]
    },
    {
      "cell_type": "code",
      "execution_count": null,
      "id": "a5f585e2",
      "metadata": {},
      "outputs": [
        {
          "data": {
            "text/plain": [
              "np.int64(0)"
            ]
          },
          "metadata": {},
          "output_type": "display_data"
        }
      ],
      "source": [
        "depset.duplicated(subset=[\"text\"]).sum()"
      ]
    },
    {
      "cell_type": "code",
      "execution_count": null,
      "id": "8656feba",
      "metadata": {},
      "outputs": [
        {
          "data": {
            "text/html": [
              "<div>\n",
              "<style scoped>\n",
              "    .dataframe tbody tr th:only-of-type {\n",
              "        vertical-align: middle;\n",
              "    }\n",
              "\n",
              "    .dataframe tbody tr th {\n",
              "        vertical-align: top;\n",
              "    }\n",
              "\n",
              "    .dataframe thead th {\n",
              "        text-align: right;\n",
              "    }\n",
              "</style>\n",
              "<table border=\"1\" class=\"dataframe\">\n",
              "  <thead>\n",
              "    <tr style=\"text-align: right;\">\n",
              "      <th></th>\n",
              "      <th>count</th>\n",
              "    </tr>\n",
              "    <tr>\n",
              "      <th>label</th>\n",
              "      <th></th>\n",
              "    </tr>\n",
              "  </thead>\n",
              "  <tbody>\n",
              "    <tr>\n",
              "      <th>moderate</th>\n",
              "      <td>6438</td>\n",
              "    </tr>\n",
              "    <tr>\n",
              "      <th>not depression</th>\n",
              "      <td>6112</td>\n",
              "    </tr>\n",
              "    <tr>\n",
              "      <th>severe</th>\n",
              "      <td>1218</td>\n",
              "    </tr>\n",
              "  </tbody>\n",
              "</table>\n",
              "</div><br><label><b>dtype:</b> int64</label>"
            ],
            "text/plain": [
              "label\n",
              "moderate          6438\n",
              "not depression    6112\n",
              "severe            1218\n",
              "Name: count, dtype: int64"
            ]
          },
          "metadata": {},
          "output_type": "display_data"
        }
      ],
      "source": [
        "depset.label.value_counts()"
      ]
    },
    {
      "cell_type": "markdown",
      "id": "0da52822",
      "metadata": {},
      "source": [
        "## Preprocessing"
      ]
    },
    {
      "cell_type": "code",
      "execution_count": null,
      "id": "9d186f30",
      "metadata": {},
      "outputs": [],
      "source": [
        "!pip install contractions"
      ]
    },
    {
      "cell_type": "code",
      "execution_count": null,
      "id": "4ca495c7",
      "metadata": {},
      "outputs": [],
      "source": [
        "import contractions\n",
        "import re"
      ]
    },
    {
      "cell_type": "code",
      "execution_count": null,
      "id": "2431f27a",
      "metadata": {},
      "outputs": [],
      "source": [
        "def preprocessing(text: str) -> str:\n",
        "    text = text.lower().strip()\n",
        "    text = contractions.fix(text)\n",
        "    text = re.sub(r\"http\\S+|www\\S+|https\\S+\", \"\", text)\n",
        "    text = re.sub(r\"<.*?>\", \"\", text)\n",
        "    text = re.sub(\"\\n\", \"\", text)\n",
        "    text = re.sub(r\"([?!,+=—&%\\'\\\";:|\\(\\){}\\[\\]/])\", r\" \\1 \", text)\n",
        "    text = re.sub(\"[ ]{2,}\", \" \", text).strip()\n",
        "\n",
        "    return text"
      ]
    },
    {
      "cell_type": "code",
      "execution_count": null,
      "id": "d96cdc8b",
      "metadata": {},
      "outputs": [],
      "source": [
        "depset.text = depset.text.apply(preprocessing)"
      ]
    },
    {
      "cell_type": "markdown",
      "id": "78a98482",
      "metadata": {},
      "source": [
        "## Model Training"
      ]
    },
    {
      "cell_type": "markdown",
      "id": "6ae1f670",
      "metadata": {},
      "source": [
        "### Train-Test Split"
      ]
    },
    {
      "cell_type": "code",
      "execution_count": null,
      "id": "dc5a4cbd",
      "metadata": {},
      "outputs": [],
      "source": [
        "from sklearn.model_selection import train_test_split"
      ]
    },
    {
      "cell_type": "code",
      "execution_count": null,
      "id": "0cdd3daf",
      "metadata": {},
      "outputs": [],
      "source": [
        "X = depset.text\n",
        "y = depset.label"
      ]
    },
    {
      "cell_type": "code",
      "execution_count": null,
      "id": "80cd16d9",
      "metadata": {},
      "outputs": [],
      "source": [
        "X_train, X_test, y_train, y_test = train_test_split(X, y, test_size=0.2, random_state=19, stratify=y)"
      ]
    },
    {
      "cell_type": "markdown",
      "id": "22127b01",
      "metadata": {},
      "source": [
        "### Class Label Encoding"
      ]
    },
    {
      "cell_type": "code",
      "execution_count": null,
      "id": "a624a5de",
      "metadata": {},
      "outputs": [],
      "source": [
        "from sklearn.preprocessing import LabelEncoder"
      ]
    },
    {
      "cell_type": "code",
      "execution_count": null,
      "id": "cfe99eed",
      "metadata": {},
      "outputs": [],
      "source": [
        "encoder = LabelEncoder()\n",
        "\n",
        "y_train_encoded = encoder.fit_transform(y_train)\n",
        "y_test_encoded = encoder.transform(y_test)"
      ]
    },
    {
      "cell_type": "code",
      "execution_count": null,
      "id": "3e5bb7b9",
      "metadata": {},
      "outputs": [
        {
          "data": {
            "text/plain": [
              "array(['moderate', 'not depression', 'severe'], dtype=object)"
            ]
          },
          "metadata": {},
          "output_type": "display_data"
        }
      ],
      "source": [
        "encoder.classes_"
      ]
    },
    {
      "cell_type": "code",
      "execution_count": null,
      "id": "1e7f61c5",
      "metadata": {},
      "outputs": [
        {
          "data": {
            "text/plain": [
              "array([1, 0, 1, 1, 0, 0, 0, 1, 0, 0])"
            ]
          },
          "metadata": {},
          "output_type": "display_data"
        }
      ],
      "source": [
        "y_train_encoded[:10]"
      ]
    },
    {
      "cell_type": "markdown",
      "id": "2bbd1ffb",
      "metadata": {},
      "source": [
        "### Cross-Validation Strategy"
      ]
    },
    {
      "cell_type": "code",
      "execution_count": null,
      "id": "05073895",
      "metadata": {},
      "outputs": [],
      "source": [
        "from sklearn.model_selection import StratifiedKFold"
      ]
    },
    {
      "cell_type": "code",
      "execution_count": null,
      "id": "0a864697",
      "metadata": {},
      "outputs": [],
      "source": [
        "folds = StratifiedKFold(n_splits=5, shuffle=True, random_state=19)"
      ]
    },
    {
      "cell_type": "markdown",
      "id": "7ee02f67",
      "metadata": {},
      "source": [
        "### Class Weights"
      ]
    },
    {
      "cell_type": "code",
      "execution_count": null,
      "id": "34dae268",
      "metadata": {},
      "outputs": [],
      "source": [
        "import numpy as np"
      ]
    },
    {
      "cell_type": "code",
      "execution_count": null,
      "id": "e7ce3062",
      "metadata": {},
      "outputs": [],
      "source": [
        "from sklearn.utils.class_weight import compute_class_weight"
      ]
    },
    {
      "cell_type": "code",
      "execution_count": null,
      "id": "528f53fc",
      "metadata": {},
      "outputs": [
        {
          "data": {
            "text/plain": [
              "array([0.71288026, 0.75078391, 3.76933607])"
            ]
          },
          "metadata": {},
          "output_type": "display_data"
        }
      ],
      "source": [
        "class_weights = compute_class_weight(\"balanced\", classes=np.unique(y_train_encoded), y=y_train_encoded)\n",
        "class_weights"
      ]
    },
    {
      "cell_type": "code",
      "execution_count": null,
      "id": "09867444",
      "metadata": {},
      "outputs": [
        {
          "data": {
            "text/plain": [
              "{np.int64(0): np.float64(0.7128802588996763),\n",
              " np.int64(1): np.float64(0.7507839127471029),\n",
              " np.int64(2): np.float64(3.7693360711841204)}"
            ]
          },
          "metadata": {},
          "output_type": "display_data"
        }
      ],
      "source": [
        "class_weights_dict = dict(zip(np.unique(y_train_encoded), class_weights))\n",
        "class_weights_dict"
      ]
    },
    {
      "cell_type": "markdown",
      "id": "358f9a93",
      "metadata": {},
      "source": [
        "### Machine Learning Models"
      ]
    },
    {
      "cell_type": "markdown",
      "id": "e1fd4e59",
      "metadata": {},
      "source": [
        "#### TF-IDF Vectorization"
      ]
    },
    {
      "cell_type": "code",
      "execution_count": null,
      "id": "8d0d977e",
      "metadata": {},
      "outputs": [],
      "source": [
        "from sklearn.feature_extraction.text import TfidfVectorizer"
      ]
    },
    {
      "cell_type": "code",
      "execution_count": null,
      "id": "6b16a3f8",
      "metadata": {},
      "outputs": [],
      "source": [
        "tfidf_vectorizer = TfidfVectorizer(max_features=5000, ngram_range=(1, 2), max_df=0.95, min_df=5)"
      ]
    },
    {
      "cell_type": "code",
      "execution_count": null,
      "id": "95c0949a",
      "metadata": {},
      "outputs": [],
      "source": [
        "X_train_tfidf = tfidf_vectorizer.fit_transform(X_train)\n",
        "X_test_tfidf = tfidf_vectorizer.transform(X_test)"
      ]
    },
    {
      "cell_type": "markdown",
      "id": "63678d34",
      "metadata": {},
      "source": [
        "#### Sentence Embeddings"
      ]
    },
    {
      "cell_type": "code",
      "execution_count": null,
      "id": "54139378",
      "metadata": {},
      "outputs": [],
      "source": [
        "!pip install sentence_transformers"
      ]
    },
    {
      "cell_type": "code",
      "execution_count": null,
      "id": "8e2d041f",
      "metadata": {},
      "outputs": [],
      "source": [
        "from sentence_transformers import SentenceTransformer"
      ]
    },
    {
      "cell_type": "code",
      "execution_count": null,
      "id": "cad2c9da",
      "metadata": {},
      "outputs": [],
      "source": [
        "model = SentenceTransformer(\"all-MiniLM-L6-v2\")"
      ]
    },
    {
      "cell_type": "code",
      "execution_count": null,
      "id": "a882bdfa",
      "metadata": {},
      "outputs": [],
      "source": [
        "X_train_embeddings = model.encode(X_train.tolist())\n",
        "X_test_embeddings = model.encode(X_test.tolist())"
      ]
    },
    {
      "cell_type": "markdown",
      "id": "f9bfd247",
      "metadata": {},
      "source": [
        "#### Resampling"
      ]
    },
    {
      "cell_type": "code",
      "execution_count": null,
      "id": "b55f1ce5",
      "metadata": {},
      "outputs": [],
      "source": [
        "!pip install imblearn"
      ]
    },
    {
      "cell_type": "code",
      "execution_count": null,
      "id": "f5d9270a",
      "metadata": {},
      "outputs": [],
      "source": [
        "from imblearn.over_sampling import SMOTE"
      ]
    },
    {
      "cell_type": "code",
      "execution_count": null,
      "id": "59cbfaa7",
      "metadata": {},
      "outputs": [],
      "source": [
        "X_train_tfidf_dense = X_train_tfidf.toarray()\n",
        "X_train_embeddings_dense = X_train_embeddings"
      ]
    },
    {
      "cell_type": "code",
      "execution_count": null,
      "id": "0ae8dccd",
      "metadata": {},
      "outputs": [],
      "source": [
        "smote = SMOTE(random_state=19)\n",
        "\n",
        "X_train_tfidf_resampled, y_train_resampled = smote.fit_resample(X_train_tfidf_dense, y_train_encoded)\n",
        "X_train_embeddings_resampled, y_train_resampled = smote.fit_resample(X_train_embeddings_dense, y_train_encoded)"
      ]
    },
    {
      "cell_type": "markdown",
      "id": "b57c5ee3",
      "metadata": {},
      "source": [
        "#### Apply Cross-Validation"
      ]
    },
    {
      "cell_type": "code",
      "execution_count": null,
      "id": "050dfd4a",
      "metadata": {},
      "outputs": [
        {
          "name": "stdout",
          "output_type": "stream",
          "text": [
            "\n",
            "Logistic Regression (TF-IDF) = LogisticRegression()\n",
            "Cross-validated Accuracy: 0.6712 +/- 0.0067\n",
            "Cross-validated F1 Score: 0.6506 +/- 0.0078\n",
            "Cross-validated Recall: 0.6712 +/- 0.0067\n",
            "Cross-validated Precision: 0.6820 +/- 0.0069\n",
            "Confusion Matrix:\n",
            "[[2044 1187 1919]\n",
            " [ 885 3287  978]\n",
            " [  56   55 5039]]\n",
            "================================================================================\n",
            "\n",
            "Linear SVC (TF-IDF) = LinearSVC()\n",
            "Cross-validated Accuracy: 0.7184 +/- 0.0057\n",
            "Cross-validated F1 Score: 0.7074 +/- 0.0065\n",
            "Cross-validated Recall: 0.7184 +/- 0.0057\n",
            "Cross-validated Precision: 0.7093 +/- 0.0065\n",
            "Confusion Matrix:\n",
            "[[2699 1509  942]\n",
            " [1280 3392  478]\n",
            " [  82   59 5009]]\n",
            "================================================================================\n",
            "\n",
            "Random Forest (TF-IDF) = RandomForestClassifier()\n",
            "Cross-validated Accuracy: 0.7442 +/- 0.0043\n",
            "Cross-validated F1 Score: 0.7480 +/- 0.0038\n",
            "Cross-validated Recall: 0.7442 +/- 0.0043\n",
            "Cross-validated Precision: 0.7542 +/- 0.0031\n",
            "Confusion Matrix:\n",
            "[[3494 1522  134]\n",
            " [1473 3586   91]\n",
            " [ 480  252 4418]]\n",
            "================================================================================\n",
            "\n",
            "Logistic Regression (Embeddings) = LogisticRegression()\n",
            "Cross-validated Accuracy: 0.5727 +/- 0.0052\n",
            "Cross-validated F1 Score: 0.5317 +/- 0.0062\n",
            "Cross-validated Recall: 0.5727 +/- 0.0052\n",
            "Cross-validated Precision: 0.6152 +/- 0.0089\n",
            "Confusion Matrix:\n",
            "[[1036  912 3202]\n",
            " [ 590 2868 1692]\n",
            " [  78  128 4944]]\n",
            "================================================================================\n",
            "\n",
            "Linear SVC (Embeddings) = LinearSVC()\n",
            "Cross-validated Accuracy: 0.6052 +/- 0.0037\n",
            "Cross-validated F1 Score: 0.5784 +/- 0.0054\n",
            "Cross-validated Recall: 0.6052 +/- 0.0037\n",
            "Cross-validated Precision: 0.6260 +/- 0.0034\n",
            "Confusion Matrix:\n",
            "[[1498 1028 2624]\n",
            " [ 760 3089 1301]\n",
            " [ 179  208 4763]]\n",
            "================================================================================\n",
            "\n",
            "Random Forest (Embeddings) = RandomForestClassifier()\n",
            "Cross-validated Accuracy: 0.7633 +/- 0.0059\n",
            "Cross-validated F1 Score: 0.7642 +/- 0.0061\n",
            "Cross-validated Recall: 0.7633 +/- 0.0059\n",
            "Cross-validated Precision: 0.7655 +/- 0.0063\n",
            "Confusion Matrix:\n",
            "[[3539 1348  263]\n",
            " [1544 3537   69]\n",
            " [ 275  158 4717]]\n",
            "================================================================================\n"
          ]
        }
      ],
      "source": [
        "from sklearn.linear_model import LogisticRegression\n",
        "from sklearn.svm import LinearSVC\n",
        "from sklearn.ensemble import RandomForestClassifier\n",
        "from sklearn.naive_bayes import MultinomialNB\n",
        "from sklearn.model_selection import cross_val_predict, cross_validate\n",
        "from sklearn.metrics import make_scorer, confusion_matrix, f1_score, recall_score, precision_score\n",
        "\n",
        "models = [\n",
        "    (\"Logistic Regression (TF-IDF)\", LogisticRegression(C=1.0, penalty=\"l2\", max_iter=1000, class_weight=class_weights_dict), X_train_tfidf_resampled, y_train_resampled),\n",
        "    (\"Linear SVC (TF-IDF)\", LinearSVC(C=1.0, class_weight=class_weights_dict, max_iter=1000), X_train_tfidf_resampled, y_train_resampled),\n",
        "    (\"Random Forest (TF-IDF)\", RandomForestClassifier(n_estimators=100, class_weight=class_weights_dict, random_state=19), X_train_tfidf_resampled, y_train_resampled),\n",
        "\n",
        "    (\"Logistic Regression (Embeddings)\", LogisticRegression(C=1.0, penalty=\"l2\", max_iter=1000, class_weight=class_weights_dict), X_train_embeddings_resampled, y_train_resampled),\n",
        "    (\"Linear SVC (Embeddings)\", LinearSVC(C=1.0, class_weight=class_weights_dict, max_iter=1000), X_train_embeddings_resampled, y_train_resampled),\n",
        "    (\"Random Forest (Embeddings)\", RandomForestClassifier(n_estimators=100, class_weight=class_weights_dict, random_state=19), X_train_embeddings_resampled, y_train_resampled),\n",
        "]\n",
        "\n",
        "scorings = {\n",
        "    \"accuracy\": \"accuracy\",\n",
        "    \"f1\": make_scorer(f1_score, average=\"weighted\"),\n",
        "    \"recall\": make_scorer(recall_score, average=\"weighted\"),\n",
        "    \"precision\": make_scorer(precision_score, average=\"weighted\")\n",
        "}\n",
        "\n",
        "confusion_matrices = {}\n",
        "results = {}\n",
        "\n",
        "for name, model, X_train_vec, y_train_vec in models:\n",
        "    print(f\"\\n{name} = {model.__class__.__name__}()\")\n",
        "\n",
        "    scores = cross_validate(model, X_train_vec, y_train_vec, cv=folds, scoring=scorings)\n",
        "\n",
        "    accuracy = scores[\"test_accuracy\"]\n",
        "    f1 = scores[\"test_f1\"]\n",
        "    recall = scores[\"test_recall\"]\n",
        "    precision = scores[\"test_precision\"]\n",
        "\n",
        "    results[name] = {\n",
        "        \"Accuracy\": accuracy.mean(),\n",
        "        \"F1\": f1.mean(),\n",
        "        \"Recall\": recall.mean(),\n",
        "        \"Precision\": precision.mean()\n",
        "    }\n",
        "\n",
        "    print(f\"Cross-validated Accuracy: {accuracy.mean():.4f} +/- {accuracy.std():.4f}\")\n",
        "    print(f\"Cross-validated F1 Score: {f1.mean():.4f} +/- {f1.std():.4f}\")\n",
        "    print(f\"Cross-validated Recall: {recall.mean():.4f} +/- {recall.std():.4f}\")\n",
        "    print(f\"Cross-validated Precision: {precision.mean():.4f} +/- {precision.std():.4f}\")\n",
        "\n",
        "    y_pred = cross_val_predict(model, X_train_vec, y_train_vec, cv=folds)\n",
        "    cm = confusion_matrix(y_train_vec, y_pred)\n",
        "    confusion_matrices[name] = cm\n",
        "    print(f\"Confusion Matrix:\\n{cm}\")\n",
        "    print(\"=\" * 80)"
      ]
    },
    {
      "cell_type": "code",
      "execution_count": null,
      "id": "f890e55a",
      "metadata": {},
      "outputs": [
        {
          "name": "stdout",
          "output_type": "stream",
          "text": [
            "\n",
            "Results saved to model_results.csv\n",
            "Confusion Matrices saved to confusion_matrices.csv\n"
          ]
        }
      ],
      "source": [
        "results_df = pandas.DataFrame(results).T\n",
        "confusion_matrices_df = pandas.DataFrame({name: cm.flatten() for name, cm in confusion_matrices.items()})\n",
        "\n",
        "results_df.to_csv(\"model_results.csv\", index=True)\n",
        "confusion_matrices_df.to_csv(\"confusion_matrices.csv\", index=True)\n",
        "\n",
        "print(\"\\nResults saved to model_results.csv\")\n",
        "print(\"Confusion Matrices saved to confusion_matrices.csv\")"
      ]
    },
    {
      "cell_type": "markdown",
      "id": "6a341a6e",
      "metadata": {},
      "source": [
        "#### Load Results and Confusion Matrices"
      ]
    },
    {
      "cell_type": "code",
      "execution_count": null,
      "id": "471cfe92",
      "metadata": {},
      "outputs": [],
      "source": [
        "model_results = pandas.read_csv(\"model_results.csv\", index_col=0)\n",
        "confusion_matrices = pandas.read_csv(\"confusion_matrices.csv\", index_col=0)"
      ]
    },
    {
      "cell_type": "code",
      "execution_count": null,
      "id": "eace3c50",
      "metadata": {},
      "outputs": [],
      "source": [
        "num_classes = len(encoder.classes_)\n",
        "confusion_matrices = {\n",
        "    col: confusion_matrices[col].values.reshape((num_classes, num_classes))\n",
        "    for col in confusion_matrices.columns\n",
        "}\n"
      ]
    },
    {
      "cell_type": "code",
      "execution_count": null,
      "id": "4e3210fe",
      "metadata": {},
      "outputs": [
        {
          "data": {
            "text/plain": [
              "{'Logistic Regression (TF-IDF)': array([[2044, 1187, 1919],\n",
              "        [ 885, 3287,  978],\n",
              "        [  56,   55, 5039]]),\n",
              " 'Linear SVC (TF-IDF)': array([[2699, 1509,  942],\n",
              "        [1280, 3392,  478],\n",
              "        [  82,   59, 5009]]),\n",
              " 'Random Forest (TF-IDF)': array([[3494, 1522,  134],\n",
              "        [1473, 3586,   91],\n",
              "        [ 480,  252, 4418]]),\n",
              " 'Logistic Regression (Embeddings)': array([[1036,  912, 3202],\n",
              "        [ 590, 2868, 1692],\n",
              "        [  78,  128, 4944]]),\n",
              " 'Linear SVC (Embeddings)': array([[1498, 1028, 2624],\n",
              "        [ 760, 3089, 1301],\n",
              "        [ 179,  208, 4763]]),\n",
              " 'Random Forest (Embeddings)': array([[3539, 1348,  263],\n",
              "        [1544, 3537,   69],\n",
              "        [ 275,  158, 4717]])}"
            ]
          },
          "metadata": {},
          "output_type": "display_data"
        }
      ],
      "source": [
        "confusion_matrices"
      ]
    },
    {
      "cell_type": "markdown",
      "id": "5061007e",
      "metadata": {},
      "source": [
        "#### Plot Confusion Matrices"
      ]
    },
    {
      "cell_type": "code",
      "execution_count": null,
      "id": "039855c7",
      "metadata": {},
      "outputs": [],
      "source": [
        "import math"
      ]
    },
    {
      "cell_type": "code",
      "execution_count": null,
      "id": "9ffe8016",
      "metadata": {},
      "outputs": [],
      "source": [
        "def plot_confusion_matrices(confusion_matrices, class_names):\n",
        "    n = len(confusion_matrices)\n",
        "    cols = 3\n",
        "    rows = math.ceil(n / cols)\n",
        "\n",
        "    fig, axes = plt.subplots(rows, cols, figsize=(cols * 5, rows * 4))\n",
        "    if rows == 1:\n",
        "        axes = axes.reshape(1, -1)\n",
        "\n",
        "    axes = axes.flatten()\n",
        "\n",
        "    for i, (name, cm) in enumerate(confusion_matrices.items()):\n",
        "        sns.heatmap(cm, annot=True, fmt=\"d\", ax=axes[i], cmap=\"Blues\",\n",
        "                    xticklabels=class_names, yticklabels=class_names)\n",
        "        axes[i].set_title(name)\n",
        "        axes[i].set_xlabel(\"Predicted label\")\n",
        "        axes[i].set_ylabel(\"True label\")\n",
        "\n",
        "    for j in range(i + 1, len(axes)):\n",
        "        fig.delaxes(axes[j])\n",
        "\n",
        "    plt.tight_layout()\n",
        "    plt.show()\n"
      ]
    },
    {
      "cell_type": "code",
      "execution_count": null,
      "id": "df3124f3",
      "metadata": {},
      "outputs": [
        {
          "data": {
            "text/plain": [
              "array(['moderate', 'not depression', 'severe'], dtype=object)"
            ]
          },
          "metadata": {},
          "output_type": "display_data"
        }
      ],
      "source": [
        "class_names = encoder.classes_\n",
        "class_names"
      ]
    },
    {
      "cell_type": "code",
      "execution_count": null,
      "id": "fa829685",
      "metadata": {},
      "outputs": [
        {
          "data": {
            "image/png": "[encoded data removed]",
            "text/plain": [
              "<Figure size 1500x800 with 12 Axes>"
            ]
          },
          "metadata": {},
          "output_type": "display_data"
        }
      ],
      "source": [
        "plot_confusion_matrices(confusion_matrices, class_names)"
      ]
    },
    {
      "cell_type": "markdown",
      "id": "5383ce53",
      "metadata": {},
      "source": [
        "#### Train the Best Model"
      ]
    },
    {
      "cell_type": "code",
      "execution_count": null,
      "id": "296b48b9",
      "metadata": {},
      "outputs": [
        {
          "name": "stdout",
          "output_type": "stream",
          "text": [
            "\n",
            "Test Set Performance:\n",
            "                precision    recall  f1-score   support\n",
            "\n",
            "      moderate       0.64      0.70      0.67      1288\n",
            "not depression       0.68      0.68      0.68      1222\n",
            "        severe       0.45      0.22      0.29       244\n",
            "\n",
            "      accuracy                           0.65      2754\n",
            "     macro avg       0.59      0.53      0.55      2754\n",
            "  weighted avg       0.64      0.65      0.64      2754\n",
            "\n",
            "Test Set Accuracy: 0.6485\n"
          ]
        }
      ],
      "source": [
        "from sklearn.metrics import classification_report, accuracy_score\n",
        "from sklearn.ensemble import RandomForestClassifier\n",
        "\n",
        "best_model = RandomForestClassifier(n_estimators=100, class_weight=class_weights_dict, random_state=19)\n",
        "best_X_train = X_train_embeddings_resampled\n",
        "best_y_train = y_train_resampled\n",
        "\n",
        "best_model.fit(best_X_train, best_y_train)\n",
        "\n",
        "y_pred_test = best_model.predict(X_test_embeddings)\n",
        "\n",
        "y_test_encoded_pred = encoder.transform(y_test)\n",
        "\n",
        "print(\"\\nTest Set Performance:\")\n",
        "print(classification_report(y_test_encoded_pred, y_pred_test, target_names=encoder.classes_))\n",
        "\n",
        "accuracy = accuracy_score(y_test_encoded_pred, y_pred_test)\n",
        "print(f\"Test Set Accuracy: {accuracy:.4f}\")"
      ]
    },
    {
      "cell_type": "markdown",
      "id": "0821fa97",
      "metadata": {},
      "source": [
        "### Deep Learning Models"
      ]
    },
    {
      "cell_type": "markdown",
      "id": "2f2e2b56",
      "metadata": {},
      "source": [
        "#### Convert Labels to Categorical"
      ]
    },
    {
      "cell_type": "code",
      "execution_count": null,
      "id": "1f07bb83",
      "metadata": {},
      "outputs": [],
      "source": [
        "from tensorflow.keras.utils import to_categorical"
      ]
    },
    {
      "cell_type": "code",
      "execution_count": null,
      "id": "837b3344",
      "metadata": {},
      "outputs": [],
      "source": [
        "y_train_categorical = to_categorical(y_train_encoded)\n",
        "y_test_categorical = to_categorical(y_test_encoded)"
      ]
    },
    {
      "cell_type": "code",
      "execution_count": null,
      "id": "509f8907",
      "metadata": {},
      "outputs": [
        {
          "data": {
            "text/plain": [
              "(11014, 3)"
            ]
          },
          "metadata": {},
          "output_type": "display_data"
        }
      ],
      "source": [
        "y_train_categorical.shape"
      ]
    },
    {
      "cell_type": "markdown",
      "id": "d536bef3",
      "metadata": {},
      "source": [
        "#### Tokenization"
      ]
    },
    {
      "cell_type": "code",
      "execution_count": null,
      "id": "ec5296e2",
      "metadata": {},
      "outputs": [],
      "source": [
        "from tensorflow.keras.preprocessing.text import Tokenizer\n",
        "from tensorflow.keras.preprocessing.sequence import pad_sequences"
      ]
    },
    {
      "cell_type": "code",
      "execution_count": null,
      "id": "8faead72",
      "metadata": {},
      "outputs": [],
      "source": [
        "tokenizer = Tokenizer(num_words=10000)\n",
        "tokenizer.fit_on_texts(X_train)"
      ]
    },
    {
      "cell_type": "code",
      "execution_count": null,
      "id": "49483171",
      "metadata": {},
      "outputs": [],
      "source": [
        "tokenized_train = tokenizer.texts_to_sequences(X_train)\n",
        "X_train_padded = pad_sequences(tokenized_train, maxlen=100)\n",
        "\n",
        "tokenized_test = tokenizer.texts_to_sequences(X_test)\n",
        "X_test_padded = pad_sequences(tokenized_test, maxlen=100)"
      ]
    },
    {
      "cell_type": "code",
      "execution_count": null,
      "id": "d030b7b9",
      "metadata": {},
      "outputs": [
        {
          "name": "stdout",
          "output_type": "stream",
          "text": [
            "Vocabulary size: 26196\n"
          ]
        }
      ],
      "source": [
        "vocabulary_size = len(tokenizer.word_index) + 1\n",
        "print(f\"Vocabulary size: {vocabulary_size}\")"
      ]
    }
  ],
  "metadata": {
    "colab": {
      "provenance": []
    },
    "kernelspec": {
      "display_name": "Python 3",
      "name": "python3"
    },
    "language_info": {
      "name": "python"
    }
  },
  "nbformat": 4,
  "nbformat_minor": 5
}
