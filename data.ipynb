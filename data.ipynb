{
  "cells": [
    {
      "cell_type": "code",
      "execution_count": 1,
      "id": "001a674c",
      "metadata": {
        "id": "001a674c"
      },
      "outputs": [],
      "source": [
        "import pandas"
      ]
    },
    {
      "cell_type": "markdown",
      "id": "6cbaf9cd",
      "metadata": {
        "id": "6cbaf9cd"
      },
      "source": [
        "## Data Cleaning Utils"
      ]
    },
    {
      "cell_type": "code",
      "execution_count": 2,
      "id": "f7d192fa",
      "metadata": {
        "id": "f7d192fa"
      },
      "outputs": [],
      "source": [
        "def normalize_colnames(df: pandas.DataFrame) -> pandas.DataFrame:\n",
        "    rename_dict: dict[str, str] = {}\n",
        "\n",
        "    for col in df.columns:\n",
        "        if \"text\" in col:\n",
        "            rename_dict[col] = \"text\"\n",
        "        elif \"label\" in col:\n",
        "            rename_dict[col] = \"label\"\n",
        "\n",
        "    df = df.rename(columns=rename_dict)\n",
        "    return df"
      ]
    },
    {
      "cell_type": "code",
      "execution_count": 3,
      "id": "5a095891",
      "metadata": {
        "id": "5a095891"
      },
      "outputs": [],
      "source": [
        "def clean_colnames(df: pandas.DataFrame) -> pandas.DataFrame:\n",
        "    clean_cols: list[str] = []\n",
        "\n",
        "    for col in df.columns:\n",
        "        clean_cols.append(col.lower().replace(\" \", \"_\"))\n",
        "\n",
        "    df.columns = clean_cols\n",
        "    return df"
      ]
    },
    {
      "cell_type": "code",
      "execution_count": 4,
      "id": "1bcaa53e",
      "metadata": {
        "id": "1bcaa53e"
      },
      "outputs": [],
      "source": [
        "def remove_ids(df: pandas.DataFrame) -> pandas.DataFrame:\n",
        "    id_cols: list[str] = []\n",
        "\n",
        "    for col in df.columns:\n",
        "        if \"id\" in col:\n",
        "            id_cols.append(col)\n",
        "\n",
        "    df = df.drop(columns=id_cols)\n",
        "    return df\n"
      ]
    },
    {
      "cell_type": "markdown",
      "source": [
        "## Colab-specific Utils"
      ],
      "metadata": {
        "id": "RK_7dU-b8j24"
      },
      "id": "RK_7dU-b8j24"
    },
    {
      "cell_type": "code",
      "source": [
        "from google.colab import files"
      ],
      "metadata": {
        "id": "dPVc1M8y8m9e"
      },
      "id": "dPVc1M8y8m9e",
      "execution_count": 5,
      "outputs": []
    },
    {
      "cell_type": "code",
      "source": [
        "!mkdir -p data"
      ],
      "metadata": {
        "id": "jb2Pq0nh8tKT"
      },
      "id": "jb2Pq0nh8tKT",
      "execution_count": 6,
      "outputs": []
    },
    {
      "cell_type": "code",
      "source": [
        "uploaded: dict[str, bytes] = files.upload(\"data\")"
      ],
      "metadata": {
        "colab": {
          "base_uri": "https://localhost:8080/",
          "height": 177
        },
        "id": "6bOTHVSY8u7m",
        "outputId": "3449c282-1cfa-4c1b-fd02-6fa73ee0c539"
      },
      "id": "6bOTHVSY8u7m",
      "execution_count": 7,
      "outputs": [
        {
          "output_type": "display_data",
          "data": {
            "text/plain": [
              "<IPython.core.display.HTML object>"
            ],
            "text/html": [
              "\n",
              "     <input type=\"file\" id=\"files-36204c6e-9a62-483a-b2f3-e5fcf348b88a\" name=\"files[]\" multiple disabled\n",
              "        style=\"border:none\" />\n",
              "     <output id=\"result-36204c6e-9a62-483a-b2f3-e5fcf348b88a\">\n",
              "      Upload widget is only available when the cell has been executed in the\n",
              "      current browser session. Please rerun this cell to enable.\n",
              "      </output>\n",
              "      <script>// Copyright 2017 Google LLC\n",
              "//\n",
              "// Licensed under the Apache License, Version 2.0 (the \"License\");\n",
              "// you may not use this file except in compliance with the License.\n",
              "// You may obtain a copy of the License at\n",
              "//\n",
              "//      http://www.apache.org/licenses/LICENSE-2.0\n",
              "//\n",
              "// Unless required by applicable law or agreed to in writing, software\n",
              "// distributed under the License is distributed on an \"AS IS\" BASIS,\n",
              "// WITHOUT WARRANTIES OR CONDITIONS OF ANY KIND, either express or implied.\n",
              "// See the License for the specific language governing permissions and\n",
              "// limitations under the License.\n",
              "\n",
              "/**\n",
              " * @fileoverview Helpers for google.colab Python module.\n",
              " */\n",
              "(function(scope) {\n",
              "function span(text, styleAttributes = {}) {\n",
              "  const element = document.createElement('span');\n",
              "  element.textContent = text;\n",
              "  for (const key of Object.keys(styleAttributes)) {\n",
              "    element.style[key] = styleAttributes[key];\n",
              "  }\n",
              "  return element;\n",
              "}\n",
              "\n",
              "// Max number of bytes which will be uploaded at a time.\n",
              "const MAX_PAYLOAD_SIZE = 100 * 1024;\n",
              "\n",
              "function _uploadFiles(inputId, outputId) {\n",
              "  const steps = uploadFilesStep(inputId, outputId);\n",
              "  const outputElement = document.getElementById(outputId);\n",
              "  // Cache steps on the outputElement to make it available for the next call\n",
              "  // to uploadFilesContinue from Python.\n",
              "  outputElement.steps = steps;\n",
              "\n",
              "  return _uploadFilesContinue(outputId);\n",
              "}\n",
              "\n",
              "// This is roughly an async generator (not supported in the browser yet),\n",
              "// where there are multiple asynchronous steps and the Python side is going\n",
              "// to poll for completion of each step.\n",
              "// This uses a Promise to block the python side on completion of each step,\n",
              "// then passes the result of the previous step as the input to the next step.\n",
              "function _uploadFilesContinue(outputId) {\n",
              "  const outputElement = document.getElementById(outputId);\n",
              "  const steps = outputElement.steps;\n",
              "\n",
              "  const next = steps.next(outputElement.lastPromiseValue);\n",
              "  return Promise.resolve(next.value.promise).then((value) => {\n",
              "    // Cache the last promise value to make it available to the next\n",
              "    // step of the generator.\n",
              "    outputElement.lastPromiseValue = value;\n",
              "    return next.value.response;\n",
              "  });\n",
              "}\n",
              "\n",
              "/**\n",
              " * Generator function which is called between each async step of the upload\n",
              " * process.\n",
              " * @param {string} inputId Element ID of the input file picker element.\n",
              " * @param {string} outputId Element ID of the output display.\n",
              " * @return {!Iterable<!Object>} Iterable of next steps.\n",
              " */\n",
              "function* uploadFilesStep(inputId, outputId) {\n",
              "  const inputElement = document.getElementById(inputId);\n",
              "  inputElement.disabled = false;\n",
              "\n",
              "  const outputElement = document.getElementById(outputId);\n",
              "  outputElement.innerHTML = '';\n",
              "\n",
              "  const pickedPromise = new Promise((resolve) => {\n",
              "    inputElement.addEventListener('change', (e) => {\n",
              "      resolve(e.target.files);\n",
              "    });\n",
              "  });\n",
              "\n",
              "  const cancel = document.createElement('button');\n",
              "  inputElement.parentElement.appendChild(cancel);\n",
              "  cancel.textContent = 'Cancel upload';\n",
              "  const cancelPromise = new Promise((resolve) => {\n",
              "    cancel.onclick = () => {\n",
              "      resolve(null);\n",
              "    };\n",
              "  });\n",
              "\n",
              "  // Wait for the user to pick the files.\n",
              "  const files = yield {\n",
              "    promise: Promise.race([pickedPromise, cancelPromise]),\n",
              "    response: {\n",
              "      action: 'starting',\n",
              "    }\n",
              "  };\n",
              "\n",
              "  cancel.remove();\n",
              "\n",
              "  // Disable the input element since further picks are not allowed.\n",
              "  inputElement.disabled = true;\n",
              "\n",
              "  if (!files) {\n",
              "    return {\n",
              "      response: {\n",
              "        action: 'complete',\n",
              "      }\n",
              "    };\n",
              "  }\n",
              "\n",
              "  for (const file of files) {\n",
              "    const li = document.createElement('li');\n",
              "    li.append(span(file.name, {fontWeight: 'bold'}));\n",
              "    li.append(span(\n",
              "        `(${file.type || 'n/a'}) - ${file.size} bytes, ` +\n",
              "        `last modified: ${\n",
              "            file.lastModifiedDate ? file.lastModifiedDate.toLocaleDateString() :\n",
              "                                    'n/a'} - `));\n",
              "    const percent = span('0% done');\n",
              "    li.appendChild(percent);\n",
              "\n",
              "    outputElement.appendChild(li);\n",
              "\n",
              "    const fileDataPromise = new Promise((resolve) => {\n",
              "      const reader = new FileReader();\n",
              "      reader.onload = (e) => {\n",
              "        resolve(e.target.result);\n",
              "      };\n",
              "      reader.readAsArrayBuffer(file);\n",
              "    });\n",
              "    // Wait for the data to be ready.\n",
              "    let fileData = yield {\n",
              "      promise: fileDataPromise,\n",
              "      response: {\n",
              "        action: 'continue',\n",
              "      }\n",
              "    };\n",
              "\n",
              "    // Use a chunked sending to avoid message size limits. See b/62115660.\n",
              "    let position = 0;\n",
              "    do {\n",
              "      const length = Math.min(fileData.byteLength - position, MAX_PAYLOAD_SIZE);\n",
              "      const chunk = new Uint8Array(fileData, position, length);\n",
              "      position += length;\n",
              "\n",
              "      const base64 = btoa(String.fromCharCode.apply(null, chunk));\n",
              "      yield {\n",
              "        response: {\n",
              "          action: 'append',\n",
              "          file: file.name,\n",
              "          data: base64,\n",
              "        },\n",
              "      };\n",
              "\n",
              "      let percentDone = fileData.byteLength === 0 ?\n",
              "          100 :\n",
              "          Math.round((position / fileData.byteLength) * 100);\n",
              "      percent.textContent = `${percentDone}% done`;\n",
              "\n",
              "    } while (position < fileData.byteLength);\n",
              "  }\n",
              "\n",
              "  // All done.\n",
              "  yield {\n",
              "    response: {\n",
              "      action: 'complete',\n",
              "    }\n",
              "  };\n",
              "}\n",
              "\n",
              "scope.google = scope.google || {};\n",
              "scope.google.colab = scope.google.colab || {};\n",
              "scope.google.colab._files = {\n",
              "  _uploadFiles,\n",
              "  _uploadFilesContinue,\n",
              "};\n",
              "})(self);\n",
              "</script> "
            ]
          },
          "metadata": {}
        },
        {
          "output_type": "stream",
          "name": "stdout",
          "text": [
            "Saving depsev.csv to data/depsev.csv\n",
            "Saving depsign_1.tsv to data/depsign_1.tsv\n",
            "Saving depsign_2.tsv to data/depsign_2.tsv\n",
            "Saving depsign_3.tsv to data/depsign_3.tsv\n"
          ]
        }
      ]
    },
    {
      "cell_type": "markdown",
      "id": "18821c2f",
      "metadata": {
        "id": "18821c2f"
      },
      "source": [
        "## DEPSEV Dataset"
      ]
    },
    {
      "cell_type": "code",
      "execution_count": 8,
      "id": "e35f342e",
      "metadata": {
        "id": "e35f342e"
      },
      "outputs": [],
      "source": [
        "depsev: pandas.DataFrame = pandas.read_csv(\"data/depsev.csv\")"
      ]
    },
    {
      "cell_type": "code",
      "execution_count": 9,
      "id": "c0ce1ef9",
      "metadata": {
        "colab": {
          "base_uri": "https://localhost:8080/"
        },
        "id": "c0ce1ef9",
        "outputId": "324ff468-3f07-414e-d8b0-91767d2e40cf"
      },
      "outputs": [
        {
          "output_type": "execute_result",
          "data": {
            "text/plain": [
              "(3553, 2)"
            ]
          },
          "metadata": {},
          "execution_count": 9
        }
      ],
      "source": [
        "depsev.shape"
      ]
    },
    {
      "cell_type": "code",
      "execution_count": 10,
      "id": "810b915b",
      "metadata": {
        "colab": {
          "base_uri": "https://localhost:8080/"
        },
        "id": "810b915b",
        "outputId": "62d0ba69-9352-4c36-9555-2ec01392a7fc"
      },
      "outputs": [
        {
          "output_type": "stream",
          "name": "stdout",
          "text": [
            "<class 'pandas.core.frame.DataFrame'>\n",
            "RangeIndex: 3553 entries, 0 to 3552\n",
            "Data columns (total 2 columns):\n",
            " #   Column  Non-Null Count  Dtype \n",
            "---  ------  --------------  ----- \n",
            " 0   text    3553 non-null   object\n",
            " 1   label   3553 non-null   object\n",
            "dtypes: object(2)\n",
            "memory usage: 2.3 MB\n"
          ]
        }
      ],
      "source": [
        "depsev.info(memory_usage=\"deep\")"
      ]
    },
    {
      "cell_type": "code",
      "execution_count": 11,
      "id": "60518e10",
      "metadata": {
        "colab": {
          "base_uri": "https://localhost:8080/",
          "height": 241
        },
        "id": "60518e10",
        "outputId": "635b8f63-b352-47df-bd56-ea9e9e098c08"
      },
      "outputs": [
        {
          "output_type": "execute_result",
          "data": {
            "text/plain": [
              "label\n",
              "minimum     2587\n",
              "moderate     394\n",
              "mild         290\n",
              "severe       282\n",
              "Name: count, dtype: int64"
            ],
            "text/html": [
              "<div>\n",
              "<style scoped>\n",
              "    .dataframe tbody tr th:only-of-type {\n",
              "        vertical-align: middle;\n",
              "    }\n",
              "\n",
              "    .dataframe tbody tr th {\n",
              "        vertical-align: top;\n",
              "    }\n",
              "\n",
              "    .dataframe thead th {\n",
              "        text-align: right;\n",
              "    }\n",
              "</style>\n",
              "<table border=\"1\" class=\"dataframe\">\n",
              "  <thead>\n",
              "    <tr style=\"text-align: right;\">\n",
              "      <th></th>\n",
              "      <th>count</th>\n",
              "    </tr>\n",
              "    <tr>\n",
              "      <th>label</th>\n",
              "      <th></th>\n",
              "    </tr>\n",
              "  </thead>\n",
              "  <tbody>\n",
              "    <tr>\n",
              "      <th>minimum</th>\n",
              "      <td>2587</td>\n",
              "    </tr>\n",
              "    <tr>\n",
              "      <th>moderate</th>\n",
              "      <td>394</td>\n",
              "    </tr>\n",
              "    <tr>\n",
              "      <th>mild</th>\n",
              "      <td>290</td>\n",
              "    </tr>\n",
              "    <tr>\n",
              "      <th>severe</th>\n",
              "      <td>282</td>\n",
              "    </tr>\n",
              "  </tbody>\n",
              "</table>\n",
              "</div><br><label><b>dtype:</b> int64</label>"
            ]
          },
          "metadata": {},
          "execution_count": 11
        }
      ],
      "source": [
        "depsev.label.value_counts()"
      ]
    },
    {
      "cell_type": "markdown",
      "id": "7dd0cea7",
      "metadata": {
        "id": "7dd0cea7"
      },
      "source": [
        "## DEPSIGN Dataset"
      ]
    },
    {
      "cell_type": "code",
      "execution_count": 12,
      "id": "cc523df7",
      "metadata": {
        "id": "cc523df7"
      },
      "outputs": [],
      "source": [
        "depsign_1: pandas.DataFrame = pandas.read_csv(\"data/depsign_1.tsv\", sep=\"\\t\")\n",
        "depsign_2: pandas.DataFrame = pandas.read_csv(\"data/depsign_2.tsv\", sep=\"\\t\")\n",
        "depsign_3: pandas.DataFrame = pandas.read_csv(\"data/depsign_3.tsv\", sep=\"\\t\")"
      ]
    },
    {
      "cell_type": "markdown",
      "id": "9bc7c789",
      "metadata": {
        "id": "9bc7c789"
      },
      "source": [
        "### DEPSIGN 1"
      ]
    },
    {
      "cell_type": "code",
      "execution_count": 13,
      "id": "2b529f96",
      "metadata": {
        "colab": {
          "base_uri": "https://localhost:8080/"
        },
        "id": "2b529f96",
        "outputId": "3dca24d1-3d88-44e9-87e1-c257d5869ff9"
      },
      "outputs": [
        {
          "output_type": "execute_result",
          "data": {
            "text/plain": [
              "(4496, 3)"
            ]
          },
          "metadata": {},
          "execution_count": 13
        }
      ],
      "source": [
        "depsign_1.shape"
      ]
    },
    {
      "cell_type": "code",
      "execution_count": 14,
      "id": "28fa58d3",
      "metadata": {
        "colab": {
          "base_uri": "https://localhost:8080/"
        },
        "id": "28fa58d3",
        "outputId": "5840d3c4-715b-4a5d-818b-b928fbd04a6f"
      },
      "outputs": [
        {
          "output_type": "stream",
          "name": "stdout",
          "text": [
            "<class 'pandas.core.frame.DataFrame'>\n",
            "RangeIndex: 4496 entries, 0 to 4495\n",
            "Data columns (total 3 columns):\n",
            " #   Column     Non-Null Count  Dtype \n",
            "---  ------     --------------  ----- \n",
            " 0   PID        4496 non-null   object\n",
            " 1   Text data  4496 non-null   object\n",
            " 2   Label      4496 non-null   object\n",
            "dtypes: object(3)\n",
            "memory usage: 6.1 MB\n"
          ]
        }
      ],
      "source": [
        "depsign_1.info(memory_usage=\"deep\")"
      ]
    },
    {
      "cell_type": "code",
      "execution_count": 15,
      "id": "abfd2551",
      "metadata": {
        "colab": {
          "base_uri": "https://localhost:8080/",
          "height": 210
        },
        "id": "abfd2551",
        "outputId": "ff25c5ab-5ff9-4e69-8ff2-fe76c7fbc67c"
      },
      "outputs": [
        {
          "output_type": "execute_result",
          "data": {
            "text/plain": [
              "Label\n",
              "moderate          2306\n",
              "not depression    1830\n",
              "severe             360\n",
              "Name: count, dtype: int64"
            ],
            "text/html": [
              "<div>\n",
              "<style scoped>\n",
              "    .dataframe tbody tr th:only-of-type {\n",
              "        vertical-align: middle;\n",
              "    }\n",
              "\n",
              "    .dataframe tbody tr th {\n",
              "        vertical-align: top;\n",
              "    }\n",
              "\n",
              "    .dataframe thead th {\n",
              "        text-align: right;\n",
              "    }\n",
              "</style>\n",
              "<table border=\"1\" class=\"dataframe\">\n",
              "  <thead>\n",
              "    <tr style=\"text-align: right;\">\n",
              "      <th></th>\n",
              "      <th>count</th>\n",
              "    </tr>\n",
              "    <tr>\n",
              "      <th>Label</th>\n",
              "      <th></th>\n",
              "    </tr>\n",
              "  </thead>\n",
              "  <tbody>\n",
              "    <tr>\n",
              "      <th>moderate</th>\n",
              "      <td>2306</td>\n",
              "    </tr>\n",
              "    <tr>\n",
              "      <th>not depression</th>\n",
              "      <td>1830</td>\n",
              "    </tr>\n",
              "    <tr>\n",
              "      <th>severe</th>\n",
              "      <td>360</td>\n",
              "    </tr>\n",
              "  </tbody>\n",
              "</table>\n",
              "</div><br><label><b>dtype:</b> int64</label>"
            ]
          },
          "metadata": {},
          "execution_count": 15
        }
      ],
      "source": [
        "depsign_1.Label.value_counts()"
      ]
    },
    {
      "cell_type": "code",
      "execution_count": 16,
      "id": "507afc9f",
      "metadata": {
        "colab": {
          "base_uri": "https://localhost:8080/"
        },
        "id": "507afc9f",
        "outputId": "5789d477-4193-46af-c00c-3cf7ddca7f76"
      },
      "outputs": [
        {
          "output_type": "execute_result",
          "data": {
            "text/plain": [
              "Index(['pid', 'text_data', 'label'], dtype='object')"
            ]
          },
          "metadata": {},
          "execution_count": 16
        }
      ],
      "source": [
        "depsign_1 = clean_colnames(depsign_1)\n",
        "depsign_1.columns"
      ]
    },
    {
      "cell_type": "code",
      "execution_count": 17,
      "id": "bf1d23d4",
      "metadata": {
        "colab": {
          "base_uri": "https://localhost:8080/"
        },
        "id": "bf1d23d4",
        "outputId": "1606c528-cdcb-4287-8ad3-58faaa342e56"
      },
      "outputs": [
        {
          "output_type": "execute_result",
          "data": {
            "text/plain": [
              "Index(['pid', 'text', 'label'], dtype='object')"
            ]
          },
          "metadata": {},
          "execution_count": 17
        }
      ],
      "source": [
        "depsign_1 = normalize_colnames(depsign_1)\n",
        "depsign_1.columns"
      ]
    },
    {
      "cell_type": "code",
      "execution_count": 18,
      "id": "639d2434",
      "metadata": {
        "colab": {
          "base_uri": "https://localhost:8080/"
        },
        "id": "639d2434",
        "outputId": "ce359c7c-669e-4b95-9ab7-2aaa3b6559c9"
      },
      "outputs": [
        {
          "output_type": "execute_result",
          "data": {
            "text/plain": [
              "Index(['text', 'label'], dtype='object')"
            ]
          },
          "metadata": {},
          "execution_count": 18
        }
      ],
      "source": [
        "depsign_1 = remove_ids(depsign_1)\n",
        "depsign_1.columns"
      ]
    },
    {
      "cell_type": "markdown",
      "id": "7f5e88cd",
      "metadata": {
        "id": "7f5e88cd"
      },
      "source": [
        "### DEPSIGN 2"
      ]
    },
    {
      "cell_type": "code",
      "execution_count": 19,
      "id": "c302c8e2",
      "metadata": {
        "colab": {
          "base_uri": "https://localhost:8080/"
        },
        "id": "c302c8e2",
        "outputId": "00d924c9-47e5-4ec9-babc-54c84824591a"
      },
      "outputs": [
        {
          "output_type": "execute_result",
          "data": {
            "text/plain": [
              "(3245, 3)"
            ]
          },
          "metadata": {},
          "execution_count": 19
        }
      ],
      "source": [
        "depsign_2.shape"
      ]
    },
    {
      "cell_type": "code",
      "execution_count": 20,
      "id": "6c2193bd",
      "metadata": {
        "colab": {
          "base_uri": "https://localhost:8080/"
        },
        "id": "6c2193bd",
        "outputId": "a6c0e56f-902e-4b10-8188-728b3baf3a67"
      },
      "outputs": [
        {
          "output_type": "stream",
          "name": "stdout",
          "text": [
            "<class 'pandas.core.frame.DataFrame'>\n",
            "RangeIndex: 3245 entries, 0 to 3244\n",
            "Data columns (total 3 columns):\n",
            " #   Column        Non-Null Count  Dtype \n",
            "---  ------        --------------  ----- \n",
            " 0   Pid           3245 non-null   object\n",
            " 1   text data     3245 non-null   object\n",
            " 2   Class labels  3245 non-null   object\n",
            "dtypes: object(3)\n",
            "memory usage: 4.4 MB\n"
          ]
        }
      ],
      "source": [
        "depsign_2.info(memory_usage=\"deep\")"
      ]
    },
    {
      "cell_type": "code",
      "execution_count": 21,
      "id": "044a8caa",
      "metadata": {
        "colab": {
          "base_uri": "https://localhost:8080/",
          "height": 210
        },
        "id": "044a8caa",
        "outputId": "09472be0-93ae-43c2-f8c6-f9d83e604ea0"
      },
      "outputs": [
        {
          "output_type": "execute_result",
          "data": {
            "text/plain": [
              "Class labels\n",
              "moderate          2169\n",
              "not depression     848\n",
              "severe             228\n",
              "Name: count, dtype: int64"
            ],
            "text/html": [
              "<div>\n",
              "<style scoped>\n",
              "    .dataframe tbody tr th:only-of-type {\n",
              "        vertical-align: middle;\n",
              "    }\n",
              "\n",
              "    .dataframe tbody tr th {\n",
              "        vertical-align: top;\n",
              "    }\n",
              "\n",
              "    .dataframe thead th {\n",
              "        text-align: right;\n",
              "    }\n",
              "</style>\n",
              "<table border=\"1\" class=\"dataframe\">\n",
              "  <thead>\n",
              "    <tr style=\"text-align: right;\">\n",
              "      <th></th>\n",
              "      <th>count</th>\n",
              "    </tr>\n",
              "    <tr>\n",
              "      <th>Class labels</th>\n",
              "      <th></th>\n",
              "    </tr>\n",
              "  </thead>\n",
              "  <tbody>\n",
              "    <tr>\n",
              "      <th>moderate</th>\n",
              "      <td>2169</td>\n",
              "    </tr>\n",
              "    <tr>\n",
              "      <th>not depression</th>\n",
              "      <td>848</td>\n",
              "    </tr>\n",
              "    <tr>\n",
              "      <th>severe</th>\n",
              "      <td>228</td>\n",
              "    </tr>\n",
              "  </tbody>\n",
              "</table>\n",
              "</div><br><label><b>dtype:</b> int64</label>"
            ]
          },
          "metadata": {},
          "execution_count": 21
        }
      ],
      "source": [
        "depsign_2[\"Class labels\"].value_counts()"
      ]
    },
    {
      "cell_type": "code",
      "execution_count": 22,
      "id": "78d53c5c",
      "metadata": {
        "colab": {
          "base_uri": "https://localhost:8080/"
        },
        "id": "78d53c5c",
        "outputId": "c0a91d61-418c-400e-a097-203094d6cdb3"
      },
      "outputs": [
        {
          "output_type": "execute_result",
          "data": {
            "text/plain": [
              "Index(['pid', 'text_data', 'class_labels'], dtype='object')"
            ]
          },
          "metadata": {},
          "execution_count": 22
        }
      ],
      "source": [
        "depsign_2 = clean_colnames(depsign_2)\n",
        "depsign_2.columns"
      ]
    },
    {
      "cell_type": "code",
      "execution_count": 23,
      "id": "2c5d1a8e",
      "metadata": {
        "colab": {
          "base_uri": "https://localhost:8080/"
        },
        "id": "2c5d1a8e",
        "outputId": "e932a912-dd6a-42c0-9837-026c61e21dcc"
      },
      "outputs": [
        {
          "output_type": "execute_result",
          "data": {
            "text/plain": [
              "Index(['pid', 'text', 'label'], dtype='object')"
            ]
          },
          "metadata": {},
          "execution_count": 23
        }
      ],
      "source": [
        "depsign_2 = normalize_colnames(depsign_2)\n",
        "depsign_2.columns"
      ]
    },
    {
      "cell_type": "code",
      "execution_count": 24,
      "id": "ab8562b0",
      "metadata": {
        "colab": {
          "base_uri": "https://localhost:8080/"
        },
        "id": "ab8562b0",
        "outputId": "0699b81b-cfa2-4144-eeb6-a268995647ca"
      },
      "outputs": [
        {
          "output_type": "execute_result",
          "data": {
            "text/plain": [
              "Index(['text', 'label'], dtype='object')"
            ]
          },
          "metadata": {},
          "execution_count": 24
        }
      ],
      "source": [
        "depsign_2 = remove_ids(depsign_2)\n",
        "depsign_2.columns"
      ]
    },
    {
      "cell_type": "markdown",
      "id": "78100373",
      "metadata": {
        "id": "78100373"
      },
      "source": [
        "### DEPSIGN 3"
      ]
    },
    {
      "cell_type": "code",
      "execution_count": 25,
      "id": "00d3e31e",
      "metadata": {
        "colab": {
          "base_uri": "https://localhost:8080/"
        },
        "id": "00d3e31e",
        "outputId": "8fa31610-fdd5-4144-8c52-4d7dc15e4ccc"
      },
      "outputs": [
        {
          "output_type": "execute_result",
          "data": {
            "text/plain": [
              "(8891, 3)"
            ]
          },
          "metadata": {},
          "execution_count": 25
        }
      ],
      "source": [
        "depsign_3.shape"
      ]
    },
    {
      "cell_type": "code",
      "execution_count": 26,
      "id": "b05bee20",
      "metadata": {
        "colab": {
          "base_uri": "https://localhost:8080/"
        },
        "id": "b05bee20",
        "outputId": "20cffd37-3bed-4f45-a717-36551d209d09"
      },
      "outputs": [
        {
          "output_type": "stream",
          "name": "stdout",
          "text": [
            "<class 'pandas.core.frame.DataFrame'>\n",
            "RangeIndex: 8891 entries, 0 to 8890\n",
            "Data columns (total 3 columns):\n",
            " #   Column     Non-Null Count  Dtype \n",
            "---  ------     --------------  ----- \n",
            " 0   PID        8891 non-null   object\n",
            " 1   Text_data  8891 non-null   object\n",
            " 2   Label      8891 non-null   object\n",
            "dtypes: object(3)\n",
            "memory usage: 10.7 MB\n"
          ]
        }
      ],
      "source": [
        "depsign_3.info(memory_usage=\"deep\")"
      ]
    },
    {
      "cell_type": "code",
      "execution_count": 27,
      "id": "fe03c891",
      "metadata": {
        "colab": {
          "base_uri": "https://localhost:8080/",
          "height": 210
        },
        "id": "fe03c891",
        "outputId": "cedeffaf-de72-4630-e89d-82cf0c7eaa06"
      },
      "outputs": [
        {
          "output_type": "execute_result",
          "data": {
            "text/plain": [
              "Label\n",
              "moderate          6019\n",
              "not depression    1971\n",
              "severe             901\n",
              "Name: count, dtype: int64"
            ],
            "text/html": [
              "<div>\n",
              "<style scoped>\n",
              "    .dataframe tbody tr th:only-of-type {\n",
              "        vertical-align: middle;\n",
              "    }\n",
              "\n",
              "    .dataframe tbody tr th {\n",
              "        vertical-align: top;\n",
              "    }\n",
              "\n",
              "    .dataframe thead th {\n",
              "        text-align: right;\n",
              "    }\n",
              "</style>\n",
              "<table border=\"1\" class=\"dataframe\">\n",
              "  <thead>\n",
              "    <tr style=\"text-align: right;\">\n",
              "      <th></th>\n",
              "      <th>count</th>\n",
              "    </tr>\n",
              "    <tr>\n",
              "      <th>Label</th>\n",
              "      <th></th>\n",
              "    </tr>\n",
              "  </thead>\n",
              "  <tbody>\n",
              "    <tr>\n",
              "      <th>moderate</th>\n",
              "      <td>6019</td>\n",
              "    </tr>\n",
              "    <tr>\n",
              "      <th>not depression</th>\n",
              "      <td>1971</td>\n",
              "    </tr>\n",
              "    <tr>\n",
              "      <th>severe</th>\n",
              "      <td>901</td>\n",
              "    </tr>\n",
              "  </tbody>\n",
              "</table>\n",
              "</div><br><label><b>dtype:</b> int64</label>"
            ]
          },
          "metadata": {},
          "execution_count": 27
        }
      ],
      "source": [
        "depsign_3.Label.value_counts()"
      ]
    },
    {
      "cell_type": "code",
      "execution_count": 28,
      "id": "9f6208fe",
      "metadata": {
        "colab": {
          "base_uri": "https://localhost:8080/"
        },
        "id": "9f6208fe",
        "outputId": "81a88246-4b11-41a0-d69a-3fe19792ff45"
      },
      "outputs": [
        {
          "output_type": "execute_result",
          "data": {
            "text/plain": [
              "Index(['pid', 'text_data', 'label'], dtype='object')"
            ]
          },
          "metadata": {},
          "execution_count": 28
        }
      ],
      "source": [
        "depsign_3 = clean_colnames(depsign_3)\n",
        "depsign_3.columns"
      ]
    },
    {
      "cell_type": "code",
      "execution_count": 29,
      "id": "c5ff59cb",
      "metadata": {
        "colab": {
          "base_uri": "https://localhost:8080/"
        },
        "id": "c5ff59cb",
        "outputId": "be8135cf-f706-408f-8f71-8867a809f6a5"
      },
      "outputs": [
        {
          "output_type": "execute_result",
          "data": {
            "text/plain": [
              "Index(['pid', 'text', 'label'], dtype='object')"
            ]
          },
          "metadata": {},
          "execution_count": 29
        }
      ],
      "source": [
        "depsign_3 = normalize_colnames(depsign_3)\n",
        "depsign_3.columns"
      ]
    },
    {
      "cell_type": "code",
      "execution_count": 30,
      "id": "b48d1fb4",
      "metadata": {
        "colab": {
          "base_uri": "https://localhost:8080/"
        },
        "id": "b48d1fb4",
        "outputId": "b777ea7b-7eb0-4d82-b307-a8301d6342aa"
      },
      "outputs": [
        {
          "output_type": "execute_result",
          "data": {
            "text/plain": [
              "Index(['text', 'label'], dtype='object')"
            ]
          },
          "metadata": {},
          "execution_count": 30
        }
      ],
      "source": [
        "depsign_3 = remove_ids(depsign_3)\n",
        "depsign_3.columns"
      ]
    },
    {
      "cell_type": "markdown",
      "id": "03fd2c88",
      "metadata": {
        "id": "03fd2c88"
      },
      "source": [
        "### Merge DEPSIGN Datasets"
      ]
    },
    {
      "cell_type": "code",
      "execution_count": 31,
      "id": "7ef3769b",
      "metadata": {
        "id": "7ef3769b"
      },
      "outputs": [],
      "source": [
        "depsign: pandas.DataFrame = pandas.concat([depsign_1, depsign_2, depsign_3], ignore_index=True)"
      ]
    },
    {
      "cell_type": "code",
      "execution_count": 32,
      "id": "6871f9bb",
      "metadata": {
        "colab": {
          "base_uri": "https://localhost:8080/"
        },
        "id": "6871f9bb",
        "outputId": "41994fbd-1194-43a3-93cf-9d179aaab617"
      },
      "outputs": [
        {
          "output_type": "execute_result",
          "data": {
            "text/plain": [
              "(16632, 2)"
            ]
          },
          "metadata": {},
          "execution_count": 32
        }
      ],
      "source": [
        "depsign.shape"
      ]
    },
    {
      "cell_type": "code",
      "execution_count": 33,
      "id": "5fc3a777",
      "metadata": {
        "colab": {
          "base_uri": "https://localhost:8080/"
        },
        "id": "5fc3a777",
        "outputId": "76f68f6d-79c7-400a-ce6d-e101c7985478"
      },
      "outputs": [
        {
          "output_type": "stream",
          "name": "stdout",
          "text": [
            "<class 'pandas.core.frame.DataFrame'>\n",
            "RangeIndex: 16632 entries, 0 to 16631\n",
            "Data columns (total 2 columns):\n",
            " #   Column  Non-Null Count  Dtype \n",
            "---  ------  --------------  ----- \n",
            " 0   text    16632 non-null  object\n",
            " 1   label   16632 non-null  object\n",
            "dtypes: object(2)\n",
            "memory usage: 20.1 MB\n"
          ]
        }
      ],
      "source": [
        "depsign.info(memory_usage=\"deep\")"
      ]
    },
    {
      "cell_type": "code",
      "execution_count": 34,
      "id": "a9f80e9c",
      "metadata": {
        "colab": {
          "base_uri": "https://localhost:8080/",
          "height": 210
        },
        "id": "a9f80e9c",
        "outputId": "a7e217be-9f4f-440f-ca6f-205d71a6d8dd"
      },
      "outputs": [
        {
          "output_type": "execute_result",
          "data": {
            "text/plain": [
              "label\n",
              "moderate          10494\n",
              "not depression     4649\n",
              "severe             1489\n",
              "Name: count, dtype: int64"
            ],
            "text/html": [
              "<div>\n",
              "<style scoped>\n",
              "    .dataframe tbody tr th:only-of-type {\n",
              "        vertical-align: middle;\n",
              "    }\n",
              "\n",
              "    .dataframe tbody tr th {\n",
              "        vertical-align: top;\n",
              "    }\n",
              "\n",
              "    .dataframe thead th {\n",
              "        text-align: right;\n",
              "    }\n",
              "</style>\n",
              "<table border=\"1\" class=\"dataframe\">\n",
              "  <thead>\n",
              "    <tr style=\"text-align: right;\">\n",
              "      <th></th>\n",
              "      <th>count</th>\n",
              "    </tr>\n",
              "    <tr>\n",
              "      <th>label</th>\n",
              "      <th></th>\n",
              "    </tr>\n",
              "  </thead>\n",
              "  <tbody>\n",
              "    <tr>\n",
              "      <th>moderate</th>\n",
              "      <td>10494</td>\n",
              "    </tr>\n",
              "    <tr>\n",
              "      <th>not depression</th>\n",
              "      <td>4649</td>\n",
              "    </tr>\n",
              "    <tr>\n",
              "      <th>severe</th>\n",
              "      <td>1489</td>\n",
              "    </tr>\n",
              "  </tbody>\n",
              "</table>\n",
              "</div><br><label><b>dtype:</b> int64</label>"
            ]
          },
          "metadata": {},
          "execution_count": 34
        }
      ],
      "source": [
        "depsign.label.value_counts()"
      ]
    },
    {
      "cell_type": "code",
      "execution_count": 35,
      "id": "2a2db729",
      "metadata": {
        "id": "2a2db729"
      },
      "outputs": [],
      "source": [
        "depsign.to_csv(\"data/depsign.csv\", index=False)"
      ]
    }
  ],
  "metadata": {
    "language_info": {
      "name": "python"
    },
    "colab": {
      "provenance": []
    },
    "kernelspec": {
      "name": "python3",
      "display_name": "Python 3"
    }
  },
  "nbformat": 4,
  "nbformat_minor": 5
}